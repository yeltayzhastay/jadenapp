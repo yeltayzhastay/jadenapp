{
 "cells": [
  {
   "cell_type": "markdown",
   "metadata": {},
   "source": [
    "# Import libraries"
   ]
  },
  {
   "cell_type": "code",
   "execution_count": 18,
   "metadata": {},
   "outputs": [],
   "source": [
    "import pandas as pd\n",
    "import numpy as np\n",
    "\n",
    "import re\n",
    "\n",
    "from sklearn.model_selection import train_test_split\n",
    "from sklearn.feature_extraction.text import TfidfVectorizer, CountVectorizer\n",
    "from sklearn.metrics import accuracy_score, precision_score, recall_score, confusion_matrix, f1_score\n",
    "from sklearn.naive_bayes import MultinomialNB, GaussianNB\n",
    "from sklearn.ensemble import RandomForestClassifier\n",
    "from sklearn.preprocessing import LabelEncoder\n",
    "\n",
    "import seaborn as sns\n",
    "import matplotlib.pyplot as plt\n",
    "\n",
    "from sklearn.metrics.pairwise import linear_kernel"
   ]
  },
  {
   "cell_type": "markdown",
   "metadata": {},
   "source": [
    "# Reading Data"
   ]
  },
  {
   "cell_type": "code",
   "execution_count": 3,
   "metadata": {},
   "outputs": [
    {
     "data": {
      "text/html": [
       "<div>\n",
       "<style scoped>\n",
       "    .dataframe tbody tr th:only-of-type {\n",
       "        vertical-align: middle;\n",
       "    }\n",
       "\n",
       "    .dataframe tbody tr th {\n",
       "        vertical-align: top;\n",
       "    }\n",
       "\n",
       "    .dataframe thead th {\n",
       "        text-align: right;\n",
       "    }\n",
       "</style>\n",
       "<table border=\"1\" class=\"dataframe\">\n",
       "  <thead>\n",
       "    <tr style=\"text-align: right;\">\n",
       "      <th></th>\n",
       "      <th>question</th>\n",
       "      <th>answer</th>\n",
       "    </tr>\n",
       "  </thead>\n",
       "  <tbody>\n",
       "    <tr>\n",
       "      <th>0</th>\n",
       "      <td>А Байтұрсынұлының 1909 жылы қамалғанға дейінгі...</td>\n",
       "      <td>Қарқаралыда оқытушы</td>\n",
       "    </tr>\n",
       "    <tr>\n",
       "      <th>1</th>\n",
       "      <td>А Байтұрсынов пен М Сералин өзі жазбаларында Қ...</td>\n",
       "      <td>Қостанай</td>\n",
       "    </tr>\n",
       "    <tr>\n",
       "      <th>2</th>\n",
       "      <td>А Байтұрсыновтың 1911 жылы Орынборда жарық көр...</td>\n",
       "      <td>″Маса″</td>\n",
       "    </tr>\n",
       "    <tr>\n",
       "      <th>3</th>\n",
       "      <td>А Байтұрсыновтың Орынборда жарық көрген жинағы –</td>\n",
       "      <td>″Маса″</td>\n",
       "    </tr>\n",
       "    <tr>\n",
       "      <th>4</th>\n",
       "      <td>А Байтұрсыновтың өлеңдер жинағы:</td>\n",
       "      <td>«Маса»</td>\n",
       "    </tr>\n",
       "    <tr>\n",
       "      <th>...</th>\n",
       "      <td>...</td>\n",
       "      <td>...</td>\n",
       "    </tr>\n",
       "    <tr>\n",
       "      <th>15135</th>\n",
       "      <td>XX қозғалыс кезінде және жазалау нәтижесінде Қ...</td>\n",
       "      <td>Жарты миллион</td>\n",
       "    </tr>\n",
       "    <tr>\n",
       "      <th>15136</th>\n",
       "      <td>XX съезден кейін ақталған қайраткер:</td>\n",
       "      <td>Н Нұрмақов</td>\n",
       "    </tr>\n",
       "    <tr>\n",
       "      <th>15137</th>\n",
       "      <td>XX съезден кейін ақталған қайраткер:</td>\n",
       "      <td>С Асфендияров</td>\n",
       "    </tr>\n",
       "    <tr>\n",
       "      <th>15138</th>\n",
       "      <td>XXI ғасырдың басында Республикадағы мектептер...</td>\n",
       "      <td>8 мыңнан астам</td>\n",
       "    </tr>\n",
       "    <tr>\n",
       "      <th>15139</th>\n",
       "      <td>XXVII жазғы Олимпиадалық ойындарының чемпионда...</td>\n",
       "      <td>Б Саттарханов, Е Ибрайымов</td>\n",
       "    </tr>\n",
       "  </tbody>\n",
       "</table>\n",
       "<p>15140 rows × 2 columns</p>\n",
       "</div>"
      ],
      "text/plain": [
       "                                                question  \\\n",
       "0      А Байтұрсынұлының 1909 жылы қамалғанға дейінгі...   \n",
       "1      А Байтұрсынов пен М Сералин өзі жазбаларында Қ...   \n",
       "2      А Байтұрсыновтың 1911 жылы Орынборда жарық көр...   \n",
       "3      А Байтұрсыновтың Орынборда жарық көрген жинағы –    \n",
       "4                      А Байтұрсыновтың өлеңдер жинағы:    \n",
       "...                                                  ...   \n",
       "15135  XX қозғалыс кезінде және жазалау нәтижесінде Қ...   \n",
       "15136              XX съезден кейін ақталған қайраткер:    \n",
       "15137              XX съезден кейін ақталған қайраткер:    \n",
       "15138   XXI ғасырдың басында Республикадағы мектептер...   \n",
       "15139  XXVII жазғы Олимпиадалық ойындарының чемпионда...   \n",
       "\n",
       "                           answer  \n",
       "0             Қарқаралыда оқытушы  \n",
       "1                        Қостанай  \n",
       "2                         ″Маса″   \n",
       "3                         ″Маса″   \n",
       "4                         «Маса»   \n",
       "...                           ...  \n",
       "15135               Жарты миллион  \n",
       "15136                  Н Нұрмақов  \n",
       "15137               С Асфендияров  \n",
       "15138              8 мыңнан астам  \n",
       "15139  Б Саттарханов, Е Ибрайымов  \n",
       "\n",
       "[15140 rows x 2 columns]"
      ]
     },
     "execution_count": 3,
     "metadata": {},
     "output_type": "execute_result"
    }
   ],
   "source": [
    "df1 = pd.read_csv('dataset/tarih.csv')\n",
    "df1"
   ]
  },
  {
   "cell_type": "code",
   "execution_count": 4,
   "metadata": {},
   "outputs": [
    {
     "data": {
      "text/html": [
       "<div>\n",
       "<style scoped>\n",
       "    .dataframe tbody tr th:only-of-type {\n",
       "        vertical-align: middle;\n",
       "    }\n",
       "\n",
       "    .dataframe tbody tr th {\n",
       "        vertical-align: top;\n",
       "    }\n",
       "\n",
       "    .dataframe thead th {\n",
       "        text-align: right;\n",
       "    }\n",
       "</style>\n",
       "<table border=\"1\" class=\"dataframe\">\n",
       "  <thead>\n",
       "    <tr style=\"text-align: right;\">\n",
       "      <th></th>\n",
       "      <th>question</th>\n",
       "      <th>answer</th>\n",
       "    </tr>\n",
       "  </thead>\n",
       "  <tbody>\n",
       "    <tr>\n",
       "      <th>0</th>\n",
       "      <td>А Байтұрсынұлының 1909 жылы қамалғанға дейінгі...</td>\n",
       "      <td>Қарқаралыда оқытушы</td>\n",
       "    </tr>\n",
       "    <tr>\n",
       "      <th>1</th>\n",
       "      <td>А Байтұрсынов пен М Сералин өзі жазбаларында Қ...</td>\n",
       "      <td>Қостанай</td>\n",
       "    </tr>\n",
       "    <tr>\n",
       "      <th>2</th>\n",
       "      <td>А Байтұрсыновтың 1911 жылы Орынборда жарық көр...</td>\n",
       "      <td>″Маса″</td>\n",
       "    </tr>\n",
       "    <tr>\n",
       "      <th>3</th>\n",
       "      <td>А Байтұрсыновтың Орынборда жарық көрген жинағы –</td>\n",
       "      <td>″Маса″</td>\n",
       "    </tr>\n",
       "    <tr>\n",
       "      <th>4</th>\n",
       "      <td>А Байтұрсыновтың өлеңдер жинағы:</td>\n",
       "      <td>«Маса»</td>\n",
       "    </tr>\n",
       "    <tr>\n",
       "      <th>...</th>\n",
       "      <td>...</td>\n",
       "      <td>...</td>\n",
       "    </tr>\n",
       "    <tr>\n",
       "      <th>15135</th>\n",
       "      <td>XX қозғалыс кезінде және жазалау нәтижесінде Қ...</td>\n",
       "      <td>Жарты миллион</td>\n",
       "    </tr>\n",
       "    <tr>\n",
       "      <th>15136</th>\n",
       "      <td>XX съезден кейін ақталған қайраткер:</td>\n",
       "      <td>Н Нұрмақов</td>\n",
       "    </tr>\n",
       "    <tr>\n",
       "      <th>15137</th>\n",
       "      <td>XX съезден кейін ақталған қайраткер:</td>\n",
       "      <td>С Асфендияров</td>\n",
       "    </tr>\n",
       "    <tr>\n",
       "      <th>15138</th>\n",
       "      <td>XXI ғасырдың басында Республикадағы мектептер...</td>\n",
       "      <td>8 мыңнан астам</td>\n",
       "    </tr>\n",
       "    <tr>\n",
       "      <th>15139</th>\n",
       "      <td>XXVII жазғы Олимпиадалық ойындарының чемпионда...</td>\n",
       "      <td>Б Саттарханов, Е Ибрайымов</td>\n",
       "    </tr>\n",
       "  </tbody>\n",
       "</table>\n",
       "<p>15140 rows × 2 columns</p>\n",
       "</div>"
      ],
      "text/plain": [
       "                                                question  \\\n",
       "0      А Байтұрсынұлының 1909 жылы қамалғанға дейінгі...   \n",
       "1      А Байтұрсынов пен М Сералин өзі жазбаларында Қ...   \n",
       "2      А Байтұрсыновтың 1911 жылы Орынборда жарық көр...   \n",
       "3      А Байтұрсыновтың Орынборда жарық көрген жинағы –    \n",
       "4                      А Байтұрсыновтың өлеңдер жинағы:    \n",
       "...                                                  ...   \n",
       "15135  XX қозғалыс кезінде және жазалау нәтижесінде Қ...   \n",
       "15136              XX съезден кейін ақталған қайраткер:    \n",
       "15137              XX съезден кейін ақталған қайраткер:    \n",
       "15138   XXI ғасырдың басында Республикадағы мектептер...   \n",
       "15139  XXVII жазғы Олимпиадалық ойындарының чемпионда...   \n",
       "\n",
       "                           answer  \n",
       "0             Қарқаралыда оқытушы  \n",
       "1                        Қостанай  \n",
       "2                         ″Маса″   \n",
       "3                         ″Маса″   \n",
       "4                         «Маса»   \n",
       "...                           ...  \n",
       "15135               Жарты миллион  \n",
       "15136                  Н Нұрмақов  \n",
       "15137               С Асфендияров  \n",
       "15138              8 мыңнан астам  \n",
       "15139  Б Саттарханов, Е Ибрайымов  \n",
       "\n",
       "[15140 rows x 2 columns]"
      ]
     },
     "execution_count": 4,
     "metadata": {},
     "output_type": "execute_result"
    }
   ],
   "source": [
    "def swap(df):\n",
    "    new_df = pd.DataFrame(df.values.tolist(), columns = ['question', 'answer'])\n",
    "    que = new_df.question.tolist()\n",
    "    new_df.question = new_df.answer.tolist()\n",
    "    new_df.answer = que\n",
    "    return new_df\n",
    "\n",
    "#swap_df = swap(df1)\n",
    "\n",
    "#df = pd.concat([df1, swap_df], ignore_index = True)\n",
    "df = pd.concat([df1], ignore_index = True)\n",
    "df"
   ]
  },
  {
   "cell_type": "markdown",
   "metadata": {},
   "source": [
    "# Cleaning"
   ]
  },
  {
   "cell_type": "code",
   "execution_count": 5,
   "metadata": {},
   "outputs": [],
   "source": [
    "def clean_str(text):\n",
    "    stripped = re.sub('[^0-9,^a-zA-Z, ^А-Я,а-я,Ә,І,Ң,Ғ,Ү,Ұ,Қ,Ө,Һ,ә,і,ə,ң,ғ,ү,ұ,қ,ө,һ]', ' ', str(text).replace('-', ' '))\n",
    "    stripped = re.sub('_', '', stripped)\n",
    "    stripped = re.sub('\\s+', ' ', stripped)\n",
    "    return stripped.replace(',','')\n",
    "    \n",
    "\n",
    "def cleaning_data(code_data):\n",
    "    question = code_data.question.tolist()\n",
    "    answer = code_data.answer.tolist()\n",
    "    sentences = []\n",
    "    for line in range(len(question)):\n",
    "        sentences.append([str(clean_str(question[line])).lower(), \n",
    "                          str(clean_str(answer[line])).lower()])\n",
    "    return pd.DataFrame(sentences, columns = ['question', 'answer'])"
   ]
  },
  {
   "cell_type": "code",
   "execution_count": 6,
   "metadata": {},
   "outputs": [
    {
     "data": {
      "text/html": [
       "<div>\n",
       "<style scoped>\n",
       "    .dataframe tbody tr th:only-of-type {\n",
       "        vertical-align: middle;\n",
       "    }\n",
       "\n",
       "    .dataframe tbody tr th {\n",
       "        vertical-align: top;\n",
       "    }\n",
       "\n",
       "    .dataframe thead th {\n",
       "        text-align: right;\n",
       "    }\n",
       "</style>\n",
       "<table border=\"1\" class=\"dataframe\">\n",
       "  <thead>\n",
       "    <tr style=\"text-align: right;\">\n",
       "      <th></th>\n",
       "      <th>question</th>\n",
       "      <th>answer</th>\n",
       "    </tr>\n",
       "  </thead>\n",
       "  <tbody>\n",
       "    <tr>\n",
       "      <th>0</th>\n",
       "      <td>а байтұрсынұлының 1909 жылы қамалғанға дейінгі...</td>\n",
       "      <td>қарқаралыда оқытушы</td>\n",
       "    </tr>\n",
       "    <tr>\n",
       "      <th>1</th>\n",
       "      <td>а байтұрсынов пен м сералин өзі жазбаларында қ...</td>\n",
       "      <td>қостанай</td>\n",
       "    </tr>\n",
       "    <tr>\n",
       "      <th>2</th>\n",
       "      <td>а байтұрсыновтың 1911 жылы орынборда жарық көр...</td>\n",
       "      <td>маса</td>\n",
       "    </tr>\n",
       "    <tr>\n",
       "      <th>3</th>\n",
       "      <td>а байтұрсыновтың орынборда жарық көрген жинағы</td>\n",
       "      <td>маса</td>\n",
       "    </tr>\n",
       "    <tr>\n",
       "      <th>4</th>\n",
       "      <td>а байтұрсыновтың өлеңдер жинағы</td>\n",
       "      <td>маса</td>\n",
       "    </tr>\n",
       "    <tr>\n",
       "      <th>...</th>\n",
       "      <td>...</td>\n",
       "      <td>...</td>\n",
       "    </tr>\n",
       "    <tr>\n",
       "      <th>15135</th>\n",
       "      <td>xx қозғалыс кезінде және жазалау нәтижесінде қ...</td>\n",
       "      <td>жарты миллион</td>\n",
       "    </tr>\n",
       "    <tr>\n",
       "      <th>15136</th>\n",
       "      <td>xx съезден кейін ақталған қайраткер</td>\n",
       "      <td>н нұрмақов</td>\n",
       "    </tr>\n",
       "    <tr>\n",
       "      <th>15137</th>\n",
       "      <td>xx съезден кейін ақталған қайраткер</td>\n",
       "      <td>с асфендияров</td>\n",
       "    </tr>\n",
       "    <tr>\n",
       "      <th>15138</th>\n",
       "      <td>xxi ғасырдың басында республикадағы мектептер...</td>\n",
       "      <td>8 мыңнан астам</td>\n",
       "    </tr>\n",
       "    <tr>\n",
       "      <th>15139</th>\n",
       "      <td>xxvii жазғы олимпиадалық ойындарының чемпиондары</td>\n",
       "      <td>б саттарханов е ибрайымов</td>\n",
       "    </tr>\n",
       "  </tbody>\n",
       "</table>\n",
       "<p>15140 rows × 2 columns</p>\n",
       "</div>"
      ],
      "text/plain": [
       "                                                question  \\\n",
       "0      а байтұрсынұлының 1909 жылы қамалғанға дейінгі...   \n",
       "1      а байтұрсынов пен м сералин өзі жазбаларында қ...   \n",
       "2      а байтұрсыновтың 1911 жылы орынборда жарық көр...   \n",
       "3        а байтұрсыновтың орынборда жарық көрген жинағы    \n",
       "4                       а байтұрсыновтың өлеңдер жинағы    \n",
       "...                                                  ...   \n",
       "15135  xx қозғалыс кезінде және жазалау нәтижесінде қ...   \n",
       "15136               xx съезден кейін ақталған қайраткер    \n",
       "15137               xx съезден кейін ақталған қайраткер    \n",
       "15138   xxi ғасырдың басында республикадағы мектептер...   \n",
       "15139  xxvii жазғы олимпиадалық ойындарының чемпиондары    \n",
       "\n",
       "                          answer  \n",
       "0            қарқаралыда оқытушы  \n",
       "1                       қостанай  \n",
       "2                          маса   \n",
       "3                          маса   \n",
       "4                          маса   \n",
       "...                          ...  \n",
       "15135              жарты миллион  \n",
       "15136                 н нұрмақов  \n",
       "15137              с асфендияров  \n",
       "15138             8 мыңнан астам  \n",
       "15139  б саттарханов е ибрайымов  \n",
       "\n",
       "[15140 rows x 2 columns]"
      ]
     },
     "execution_count": 6,
     "metadata": {},
     "output_type": "execute_result"
    }
   ],
   "source": [
    "df = cleaning_data(df)\n",
    "df"
   ]
  },
  {
   "cell_type": "code",
   "execution_count": 7,
   "metadata": {},
   "outputs": [],
   "source": [
    "le = LabelEncoder()"
   ]
  },
  {
   "cell_type": "code",
   "execution_count": 8,
   "metadata": {},
   "outputs": [
    {
     "data": {
      "text/html": [
       "<div>\n",
       "<style scoped>\n",
       "    .dataframe tbody tr th:only-of-type {\n",
       "        vertical-align: middle;\n",
       "    }\n",
       "\n",
       "    .dataframe tbody tr th {\n",
       "        vertical-align: top;\n",
       "    }\n",
       "\n",
       "    .dataframe thead th {\n",
       "        text-align: right;\n",
       "    }\n",
       "</style>\n",
       "<table border=\"1\" class=\"dataframe\">\n",
       "  <thead>\n",
       "    <tr style=\"text-align: right;\">\n",
       "      <th></th>\n",
       "      <th>question</th>\n",
       "      <th>answer</th>\n",
       "      <th>label</th>\n",
       "    </tr>\n",
       "  </thead>\n",
       "  <tbody>\n",
       "    <tr>\n",
       "      <th>0</th>\n",
       "      <td>а байтұрсынұлының 1909 жылы қамалғанға дейінгі...</td>\n",
       "      <td>қарқаралыда оқытушы</td>\n",
       "      <td>10413</td>\n",
       "    </tr>\n",
       "    <tr>\n",
       "      <th>1</th>\n",
       "      <td>а байтұрсынов пен м сералин өзі жазбаларында қ...</td>\n",
       "      <td>қостанай</td>\n",
       "      <td>10526</td>\n",
       "    </tr>\n",
       "    <tr>\n",
       "      <th>2</th>\n",
       "      <td>а байтұрсыновтың 1911 жылы орынборда жарық көр...</td>\n",
       "      <td>маса</td>\n",
       "      <td>935</td>\n",
       "    </tr>\n",
       "    <tr>\n",
       "      <th>3</th>\n",
       "      <td>а байтұрсыновтың орынборда жарық көрген жинағы</td>\n",
       "      <td>маса</td>\n",
       "      <td>935</td>\n",
       "    </tr>\n",
       "    <tr>\n",
       "      <th>4</th>\n",
       "      <td>а байтұрсыновтың өлеңдер жинағы</td>\n",
       "      <td>маса</td>\n",
       "      <td>935</td>\n",
       "    </tr>\n",
       "    <tr>\n",
       "      <th>...</th>\n",
       "      <td>...</td>\n",
       "      <td>...</td>\n",
       "      <td>...</td>\n",
       "    </tr>\n",
       "    <tr>\n",
       "      <th>15135</th>\n",
       "      <td>xx қозғалыс кезінде және жазалау нәтижесінде қ...</td>\n",
       "      <td>жарты миллион</td>\n",
       "      <td>6551</td>\n",
       "    </tr>\n",
       "    <tr>\n",
       "      <th>15136</th>\n",
       "      <td>xx съезден кейін ақталған қайраткер</td>\n",
       "      <td>н нұрмақов</td>\n",
       "      <td>7744</td>\n",
       "    </tr>\n",
       "    <tr>\n",
       "      <th>15137</th>\n",
       "      <td>xx съезден кейін ақталған қайраткер</td>\n",
       "      <td>с асфендияров</td>\n",
       "      <td>1103</td>\n",
       "    </tr>\n",
       "    <tr>\n",
       "      <th>15138</th>\n",
       "      <td>xxi ғасырдың басында республикадағы мектептер...</td>\n",
       "      <td>8 мыңнан астам</td>\n",
       "      <td>445</td>\n",
       "    </tr>\n",
       "    <tr>\n",
       "      <th>15139</th>\n",
       "      <td>xxvii жазғы олимпиадалық ойындарының чемпиондары</td>\n",
       "      <td>б саттарханов е ибрайымов</td>\n",
       "      <td>5501</td>\n",
       "    </tr>\n",
       "  </tbody>\n",
       "</table>\n",
       "<p>15140 rows × 3 columns</p>\n",
       "</div>"
      ],
      "text/plain": [
       "                                                question  \\\n",
       "0      а байтұрсынұлының 1909 жылы қамалғанға дейінгі...   \n",
       "1      а байтұрсынов пен м сералин өзі жазбаларында қ...   \n",
       "2      а байтұрсыновтың 1911 жылы орынборда жарық көр...   \n",
       "3        а байтұрсыновтың орынборда жарық көрген жинағы    \n",
       "4                       а байтұрсыновтың өлеңдер жинағы    \n",
       "...                                                  ...   \n",
       "15135  xx қозғалыс кезінде және жазалау нәтижесінде қ...   \n",
       "15136               xx съезден кейін ақталған қайраткер    \n",
       "15137               xx съезден кейін ақталған қайраткер    \n",
       "15138   xxi ғасырдың басында республикадағы мектептер...   \n",
       "15139  xxvii жазғы олимпиадалық ойындарының чемпиондары    \n",
       "\n",
       "                          answer  label  \n",
       "0            қарқаралыда оқытушы  10413  \n",
       "1                       қостанай  10526  \n",
       "2                          маса     935  \n",
       "3                          маса     935  \n",
       "4                          маса     935  \n",
       "...                          ...    ...  \n",
       "15135              жарты миллион   6551  \n",
       "15136                 н нұрмақов   7744  \n",
       "15137              с асфендияров   1103  \n",
       "15138             8 мыңнан астам    445  \n",
       "15139  б саттарханов е ибрайымов   5501  \n",
       "\n",
       "[15140 rows x 3 columns]"
      ]
     },
     "execution_count": 8,
     "metadata": {},
     "output_type": "execute_result"
    }
   ],
   "source": [
    "df['label'] = le.fit_transform(df['answer'])\n",
    "df"
   ]
  },
  {
   "cell_type": "code",
   "execution_count": 9,
   "metadata": {},
   "outputs": [
    {
     "data": {
      "text/plain": [
       "11154"
      ]
     },
     "execution_count": 9,
     "metadata": {},
     "output_type": "execute_result"
    }
   ],
   "source": [
    "df['label'].max()"
   ]
  },
  {
   "cell_type": "raw",
   "metadata": {},
   "source": [
    "df = df.drop_duplicates('question')\n",
    "df"
   ]
  },
  {
   "cell_type": "markdown",
   "metadata": {},
   "source": [
    "# Naive Bayes"
   ]
  },
  {
   "cell_type": "code",
   "execution_count": 11,
   "metadata": {},
   "outputs": [],
   "source": [
    "vectorizer = TfidfVectorizer()\n",
    "\n",
    "X = vectorizer.fit_transform(df.question)"
   ]
  },
  {
   "cell_type": "code",
   "execution_count": 33,
   "metadata": {},
   "outputs": [
    {
     "name": "stdout",
     "output_type": "stream",
     "text": [
      "[[0. 0. 0. ... 0. 0. 0.]\n",
      " [0. 0. 0. ... 0. 0. 0.]\n",
      " [0. 0. 0. ... 0. 0. 0.]\n",
      " [0. 0. 0. ... 0. 0. 0.]\n",
      " [0. 0. 0. ... 0. 0. 0.]]\n"
     ]
    }
   ],
   "source": [
    "print(X.toarray()[0:5])"
   ]
  },
  {
   "cell_type": "code",
   "execution_count": 32,
   "metadata": {},
   "outputs": [
    {
     "data": {
      "text/plain": [
       "(15140, 17988)"
      ]
     },
     "execution_count": 32,
     "metadata": {},
     "output_type": "execute_result"
    }
   ],
   "source": [
    "X.shape"
   ]
  },
  {
   "cell_type": "code",
   "execution_count": 57,
   "metadata": {},
   "outputs": [],
   "source": [
    "import pickle"
   ]
  },
  {
   "cell_type": "code",
   "execution_count": 66,
   "metadata": {},
   "outputs": [],
   "source": [
    "pickle.dump(vectorizer, open('_model.sav', 'wb'))\n",
    "pickle.dump(X, open('_vectorized.sav', 'wb'))"
   ]
  },
  {
   "cell_type": "code",
   "execution_count": 44,
   "metadata": {},
   "outputs": [
    {
     "data": {
      "text/html": [
       "<div>\n",
       "<style scoped>\n",
       "    .dataframe tbody tr th:only-of-type {\n",
       "        vertical-align: middle;\n",
       "    }\n",
       "\n",
       "    .dataframe tbody tr th {\n",
       "        vertical-align: top;\n",
       "    }\n",
       "\n",
       "    .dataframe thead th {\n",
       "        text-align: right;\n",
       "    }\n",
       "</style>\n",
       "<table border=\"1\" class=\"dataframe\">\n",
       "  <thead>\n",
       "    <tr style=\"text-align: right;\">\n",
       "      <th></th>\n",
       "      <th>question</th>\n",
       "      <th>answer</th>\n",
       "    </tr>\n",
       "  </thead>\n",
       "  <tbody>\n",
       "    <tr>\n",
       "      <th>12213</th>\n",
       "      <td>қазақ кср і</td>\n",
       "      <td>1936 1991 ж</td>\n",
       "    </tr>\n",
       "    <tr>\n",
       "      <th>11740</th>\n",
       "      <td>қазақ акср і</td>\n",
       "      <td>1920 1936 ж</td>\n",
       "    </tr>\n",
       "    <tr>\n",
       "      <th>3610</th>\n",
       "      <td>қазақ акср і құрылды</td>\n",
       "      <td>1920 жылы 4 қазанда орынборда</td>\n",
       "    </tr>\n",
       "    <tr>\n",
       "      <th>3609</th>\n",
       "      <td>қазақ акср і құрылды</td>\n",
       "      <td>1920 жылы сәуірде</td>\n",
       "    </tr>\n",
       "    <tr>\n",
       "      <th>3946</th>\n",
       "      <td>қазақ ханы жәнібек</td>\n",
       "      <td>ақ орда ханы барақтың баласы</td>\n",
       "    </tr>\n",
       "    <tr>\n",
       "      <th>3608</th>\n",
       "      <td>қазақ акср і қазақ кеңестік социалистік респуб...</td>\n",
       "      <td>1936 жылы</td>\n",
       "    </tr>\n",
       "    <tr>\n",
       "      <th>3687</th>\n",
       "      <td>қазақ жүздері</td>\n",
       "      <td>ортажүз кіші жүз ұлы жүз</td>\n",
       "    </tr>\n",
       "    <tr>\n",
       "      <th>3881</th>\n",
       "      <td>қазақ хандығында жүз</td>\n",
       "      <td>бірнеше ұлыстан тұрды</td>\n",
       "    </tr>\n",
       "    <tr>\n",
       "      <th>3906</th>\n",
       "      <td>қазақ хандығының алғашқы ханы</td>\n",
       "      <td>керей</td>\n",
       "    </tr>\n",
       "    <tr>\n",
       "      <th>9232</th>\n",
       "      <td>1643 жылы қазақ жоңғар ұрысында қазақ әскерін...</td>\n",
       "      <td>жәңгір хан</td>\n",
       "    </tr>\n",
       "  </tbody>\n",
       "</table>\n",
       "</div>"
      ],
      "text/plain": [
       "                                                question  \\\n",
       "12213                                        қазақ кср і   \n",
       "11740                                       қазақ акср і   \n",
       "3610                               қазақ акср і құрылды    \n",
       "3609                               қазақ акср і құрылды    \n",
       "3946                                 қазақ ханы жәнібек    \n",
       "3608   қазақ акср і қазақ кеңестік социалистік респуб...   \n",
       "3687                                      қазақ жүздері    \n",
       "3881                               қазақ хандығында жүз    \n",
       "3906                      қазақ хандығының алғашқы ханы    \n",
       "9232    1643 жылы қазақ жоңғар ұрысында қазақ әскерін...   \n",
       "\n",
       "                              answer  \n",
       "12213                   1936 1991 ж   \n",
       "11740                   1920 1936 ж   \n",
       "3610   1920 жылы 4 қазанда орынборда  \n",
       "3609               1920 жылы сәуірде  \n",
       "3946    ақ орда ханы барақтың баласы  \n",
       "3608                      1936 жылы   \n",
       "3687        ортажүз кіші жүз ұлы жүз  \n",
       "3881          бірнеше ұлыстан тұрды   \n",
       "3906                           керей  \n",
       "9232                     жәңгір хан   "
      ]
     },
     "execution_count": 44,
     "metadata": {},
     "output_type": "execute_result"
    }
   ],
   "source": [
    "cosine_similarities = linear_kernel(vectorizer.transform(['xx кезінде және жазалау нәтижесінде қазақстанның жеріндегі қазақтардың саны кеміді']), X).flatten()\n",
    "cosine_similarities = np.ndarray.argsort(-cosine_similarities)[:10]\n",
    "df.loc[cosine_similarities.tolist(), ['question', 'answer']]"
   ]
  },
  {
   "cell_type": "code",
   "execution_count": 45,
   "metadata": {},
   "outputs": [
    {
     "data": {
      "text/plain": [
       "array([0.92613209, 0.74220452, 0.7248068 , 0.23696139, 0.21535982,\n",
       "       0.20474668, 0.18307976, 0.18007796, 0.17175527, 0.16818403])"
      ]
     },
     "execution_count": 45,
     "metadata": {},
     "output_type": "execute_result"
    }
   ],
   "source": [
    "cosine_similarities = linear_kernel(vectorizer.transform(['xx қазақ жеріндегі кезінде және жазалау нәтижесінде қазақстанның қазақтардың саны кеміді']), X).flatten()\n",
    "cosine_similarities = -np.sort(-cosine_similarities)[:10]\n",
    "cosine_similarities"
   ]
  },
  {
   "cell_type": "code",
   "execution_count": 45,
   "metadata": {},
   "outputs": [
    {
     "data": {
      "text/plain": [
       "['xx қозғалыс кезінде және жазалау нәтижесінде қазақстанның жеріндегі қазақтардың саны кеміді ']"
      ]
     },
     "execution_count": 45,
     "metadata": {},
     "output_type": "execute_result"
    }
   ],
   "source": [
    "df.question[15135:15136].tolist()"
   ]
  },
  {
   "cell_type": "code",
   "execution_count": 46,
   "metadata": {},
   "outputs": [
    {
     "data": {
      "text/plain": [
       "15135                            жарты миллион\n",
       "11154                     жарты миллионға жуық\n",
       "11205                    жарты миллионға жуық \n",
       "11290     иттифок и муслимин партиясы құрылды \n",
       "13560      қазақстанның демократиялық таңдауы \n",
       "11246                қырғыз ұйғыр шаруаларымен\n",
       "11187                 қырғыз ұйғыр шаруалармен\n",
       "697                              невада семей \n",
       "12288                                  375 мың\n",
       "4375                                     азат \n",
       "Name: answer, dtype: object"
      ]
     },
     "execution_count": 46,
     "metadata": {},
     "output_type": "execute_result"
    }
   ],
   "source": [
    "from sklearn.metrics.pairwise import linear_kernel\n",
    "cosine_similarities = linear_kernel(vectorizer.transform(['xx қозғалыс кезінде және жазалау нәтижесінде қазақстанның жеріндегі қазақтардың саны кеміді']), X).flatten()\n",
    "cosine_similarities = np.ndarray.argsort(-cosine_similarities)[:10]\n",
    "df.loc[cosine_similarities.tolist(),'answer']"
   ]
  },
  {
   "cell_type": "code",
   "execution_count": 26,
   "metadata": {},
   "outputs": [
    {
     "data": {
      "text/plain": [
       "array([15137, 15136,  7313,  3302,  3292,  3294, 15060, 15039, 14971,\n",
       "       14970], dtype=int64)"
      ]
     },
     "execution_count": 26,
     "metadata": {},
     "output_type": "execute_result"
    }
   ],
   "source": [
    "cosine_similarities = np.ndarray.argsort(-cosine_similarities)[:10]\n",
    "cosine_similarities"
   ]
  },
  {
   "cell_type": "code",
   "execution_count": 32,
   "metadata": {},
   "outputs": [
    {
     "data": {
      "text/plain": [
       "[15137, 15136, 7313, 3302, 3292, 3294, 15060, 15039, 14971, 14970]"
      ]
     },
     "execution_count": 32,
     "metadata": {},
     "output_type": "execute_result"
    }
   ],
   "source": [
    "cosine_similarities.tolist()"
   ]
  },
  {
   "cell_type": "code",
   "execution_count": 41,
   "metadata": {},
   "outputs": [
    {
     "data": {
      "text/plain": [
       "15137                                        с асфендияров\n",
       "15136                                           н нұрмақов\n",
       "7313     сейфуллин майлин жансүгіров асфендияров жандос...\n",
       "3302                             с асфендияров о жандосов \n",
       "3292                     с сейфуллин і жансүгіров б майлин\n",
       "3294                    с сейфуллин і жансүғіров б майлин \n",
       "15060                          м жұмабаев  а байтұрсынұлы \n",
       "15039                                           и в сталин\n",
       "14971                                           м жұмабаев\n",
       "14970    м жұмабаев  ш құдайбердіұлы  ж аймауытов  а ба...\n",
       "Name: answer, dtype: object"
      ]
     },
     "execution_count": 41,
     "metadata": {},
     "output_type": "execute_result"
    }
   ],
   "source": [
    "df.loc[cosine_similarities.tolist(),'answer']"
   ]
  },
  {
   "cell_type": "code",
   "execution_count": 23,
   "metadata": {},
   "outputs": [
    {
     "name": "stdout",
     "output_type": "stream",
     "text": [
      " xx съезден кейін ақталған қайраткер \n",
      "xx съезден кейін ақталған қайраткер \n",
      "сталин өлімінен кейін хх съезден кейін ақталғандар \n",
      "кокп нің xx сьезінен кейін ақталған мемлекет қайраткерлері \n",
      "кокп xx съезінен кейін ақталған аса көрнекті әдебиетшілер \n",
      "кокп xx сьезінен кейін ақталған әділетсіз жазаға ұшыраған аса көрнекті әдебиетшілер \n",
      " xx ғасырдың 80 жылдары шығармашылық мұралары ақталған қайраткерлер \n",
      "xx ғасырдың 30 жылдары тоталитарлық казармалық жүйені енгізген қайраткер \n",
      "xx ғ 80 ж соңында шығармашылық мұралары ақталған қайраткердің бірі \n",
      "xx ғ 80 ж соңында шығармашылық мұралары ақталған қайраткердің бірі \n"
     ]
    }
   ],
   "source": [
    "for i in cosine_similarities:\n",
    "    print(df.question.tolist()[i])"
   ]
  },
  {
   "cell_type": "code",
   "execution_count": null,
   "metadata": {},
   "outputs": [],
   "source": []
  },
  {
   "cell_type": "code",
   "execution_count": null,
   "metadata": {},
   "outputs": [],
   "source": []
  },
  {
   "cell_type": "code",
   "execution_count": 11,
   "metadata": {},
   "outputs": [
    {
     "data": {
      "text/plain": [
       "(15140, 8618)"
      ]
     },
     "execution_count": 11,
     "metadata": {},
     "output_type": "execute_result"
    }
   ],
   "source": [
    "X.shape"
   ]
  },
  {
   "cell_type": "code",
   "execution_count": 12,
   "metadata": {},
   "outputs": [
    {
     "data": {
      "text/plain": [
       "PCA(copy=True, iterated_power='auto', n_components=500, random_state=None,\n",
       "    svd_solver='auto', tol=0.0, whiten=False)"
      ]
     },
     "execution_count": 12,
     "metadata": {},
     "output_type": "execute_result"
    }
   ],
   "source": [
    "from sklearn.decomposition import PCA\n",
    "pca = PCA(500) \n",
    "pca.fit(X.toarray())"
   ]
  },
  {
   "cell_type": "code",
   "execution_count": 13,
   "metadata": {},
   "outputs": [
    {
     "data": {
      "text/plain": [
       "(15140, 500)"
      ]
     },
     "execution_count": 13,
     "metadata": {},
     "output_type": "execute_result"
    }
   ],
   "source": [
    "pca_data = pca.transform(X.toarray())\n",
    "pca_data.shape"
   ]
  },
  {
   "cell_type": "code",
   "execution_count": 17,
   "metadata": {},
   "outputs": [
    {
     "data": {
      "text/plain": [
       "array([[-1.24970130e-02, -5.71863915e-03, -4.80605722e-03, ...,\n",
       "         3.84977890e-04,  2.99237905e-04,  4.40740719e-04],\n",
       "       [-1.32837702e-02, -6.08416226e-03, -5.57754288e-03, ...,\n",
       "         4.92850450e-02,  6.84579601e-03, -2.91505141e-03],\n",
       "       [-1.32768178e-02, -6.17421190e-03, -5.25985653e-03, ...,\n",
       "         1.23971260e-02, -3.72135482e-02,  7.75626312e-04],\n",
       "       ...,\n",
       "       [-1.39015362e-02, -6.54955253e-03, -5.64278339e-03, ...,\n",
       "         4.26856416e-05, -4.22669236e-04, -1.29840285e-04],\n",
       "       [-1.80585194e-02, -1.00201753e-02, -7.69776673e-03, ...,\n",
       "        -8.63402469e-03, -9.00070930e-03,  5.67860524e-02],\n",
       "       [-1.24970130e-02, -5.71863915e-03, -4.80605722e-03, ...,\n",
       "         3.84177762e-04,  3.01904299e-04,  4.40739274e-04]])"
      ]
     },
     "execution_count": 17,
     "metadata": {},
     "output_type": "execute_result"
    }
   ],
   "source": [
    "pca_data"
   ]
  },
  {
   "cell_type": "code",
   "execution_count": 19,
   "metadata": {},
   "outputs": [
    {
     "data": {
      "text/plain": [
       "SVC(C=1.0, break_ties=False, cache_size=200, class_weight=None, coef0=0.0,\n",
       "    decision_function_shape='ovr', degree=3, gamma='scale', kernel='linear',\n",
       "    max_iter=-1, probability=False, random_state=None, shrinking=True,\n",
       "    tol=0.001, verbose=False)"
      ]
     },
     "execution_count": 19,
     "metadata": {},
     "output_type": "execute_result"
    }
   ],
   "source": [
    "from sklearn import svm\n",
    "naive_bayes = svm.SVC(kernel='linear')\n",
    "naive_bayes.fit(pca_data, y)"
   ]
  },
  {
   "cell_type": "code",
   "execution_count": 26,
   "metadata": {
    "scrolled": true
   },
   "outputs": [
    {
     "name": "stdout",
     "output_type": "stream",
     "text": [
      "Accuracy score: 0.0\n"
     ]
    }
   ],
   "source": [
    "#x_test = df.question[Train_split:].tolist()\n",
    "#y_test = df.label[Train_split:].tolist()\n",
    "\n",
    "predictions = naive_bayes.predict(pca.transform(X[0:10].toarray()))\n",
    "\n",
    "print('Accuracy score: {}'.format(accuracy_score(y[0:10], predictions)))"
   ]
  },
  {
   "cell_type": "code",
   "execution_count": 16,
   "metadata": {},
   "outputs": [
    {
     "data": {
      "text/plain": [
       "array(['1856 ж ш уалиханов топографиялық картаға түсірген көл '],\n",
       "      dtype=object)"
      ]
     },
     "execution_count": 16,
     "metadata": {},
     "output_type": "execute_result"
    }
   ],
   "source": [
    "le.inverse_transform(naive_bayes.predict(vectorizer.transform(['ыстық көл']).toarray()))"
   ]
  },
  {
   "cell_type": "code",
   "execution_count": 17,
   "metadata": {},
   "outputs": [
    {
     "data": {
      "text/plain": [
       "array([3881])"
      ]
     },
     "execution_count": 17,
     "metadata": {},
     "output_type": "execute_result"
    }
   ],
   "source": [
    "naive_bayes.predict(vectorizer.transform(['ыстық көл']).toarray())"
   ]
  },
  {
   "cell_type": "code",
   "execution_count": 18,
   "metadata": {},
   "outputs": [
    {
     "data": {
      "text/html": [
       "<div>\n",
       "<style scoped>\n",
       "    .dataframe tbody tr th:only-of-type {\n",
       "        vertical-align: middle;\n",
       "    }\n",
       "\n",
       "    .dataframe tbody tr th {\n",
       "        vertical-align: top;\n",
       "    }\n",
       "\n",
       "    .dataframe thead th {\n",
       "        text-align: right;\n",
       "    }\n",
       "</style>\n",
       "<table border=\"1\" class=\"dataframe\">\n",
       "  <thead>\n",
       "    <tr style=\"text-align: right;\">\n",
       "      <th></th>\n",
       "      <th>question</th>\n",
       "      <th>answer</th>\n",
       "      <th>label</th>\n",
       "    </tr>\n",
       "  </thead>\n",
       "  <tbody>\n",
       "    <tr>\n",
       "      <th>2450</th>\n",
       "      <td>ыстық көл</td>\n",
       "      <td>1856 ж ш уалиханов топографиялық картаға түсір...</td>\n",
       "      <td>3881</td>\n",
       "    </tr>\n",
       "  </tbody>\n",
       "</table>\n",
       "</div>"
      ],
      "text/plain": [
       "        question                                             answer  label\n",
       "2450  ыстық көл   1856 ж ш уалиханов топографиялық картаға түсір...   3881"
      ]
     },
     "execution_count": 18,
     "metadata": {},
     "output_type": "execute_result"
    }
   ],
   "source": [
    "df[df.label == 3881]"
   ]
  },
  {
   "cell_type": "code",
   "execution_count": 16,
   "metadata": {},
   "outputs": [
    {
     "name": "stdout",
     "output_type": "stream",
     "text": [
      "ыстық көл жағасында \n",
      "үйсіндердің астанасы чигучен қызыл аңғар қаласы орналасқан \n"
     ]
    }
   ],
   "source": [
    "print(df.question.tolist()[401])\n",
    "print(df.answer.tolist()[401])"
   ]
  },
  {
   "cell_type": "code",
   "execution_count": 27,
   "metadata": {},
   "outputs": [
    {
     "data": {
      "text/plain": [
       "array(['1718 ж '], dtype=object)"
      ]
     },
     "execution_count": 27,
     "metadata": {},
     "output_type": "execute_result"
    }
   ],
   "source": [
    "le.inverse_transform(naive_bayes.predict(vectorizer.transform([\"жоңғар аңырақай шайқасы\"]).toarray()))"
   ]
  },
  {
   "cell_type": "raw",
   "metadata": {},
   "source": [
    "from sklearn import metrics\n",
    "model = GaussianNB()\n",
    "model.fit(X_train.toarray(), y_train)\n",
    "print(model)\n",
    "# make predictions\n",
    "expected = y_train\n",
    "predicted = model.predict(X_train.toarray())\n",
    "# summarize the fit of the model\n",
    "print(metrics.classification_report(expected, predicted))\n",
    "print(metrics.confusion_matrix(expected, predicted))"
   ]
  },
  {
   "cell_type": "raw",
   "metadata": {},
   "source": [
    "from sklearn import metrics\n",
    "from sklearn.neighbors import KNeighborsClassifier\n",
    "# fit a k-nearest neighbor model to the data\n",
    "model = KNeighborsClassifier()\n",
    "model.fit(X_train, y_train)\n",
    "print(model)\n",
    "# make predictions\n",
    "expected = y_train\n",
    "predicted = model.predict(X_train)\n",
    "# summarize the fit of the model\n",
    "print(metrics.classification_report(expected, predicted))\n",
    "print(metrics.confusion_matrix(expected, predicted))"
   ]
  },
  {
   "cell_type": "raw",
   "metadata": {},
   "source": [
    "from sklearn import metrics\n",
    "from sklearn.tree import DecisionTreeClassifier\n",
    "# fit a CART model to the data\n",
    "model = DecisionTreeClassifier()\n",
    "model.fit(X_train, y_train)\n",
    "print(model)\n",
    "# make predictions\n",
    "expected = y_train\n",
    "predicted = model.predict(X_train)\n",
    "# summarize the fit of the model\n",
    "print(metrics.classification_report(expected, predicted))\n",
    "print(metrics.confusion_matrix(expected, predicted))"
   ]
  },
  {
   "cell_type": "raw",
   "metadata": {},
   "source": [
    "from sklearn import metrics\n",
    "from sklearn.svm import SVC\n",
    "# fit a SVM model to the data\n",
    "model = SVC()\n",
    "model.fit(X_train, y_train)\n",
    "print(model)\n",
    "# make predictions\n",
    "expected = y_train\n",
    "predicted = model.predict(X_train)\n",
    "# summarize the fit of the model\n",
    "print(metrics.classification_report(expected, predicted))\n",
    "print(metrics.confusion_matrix(expected, predicted))"
   ]
  },
  {
   "cell_type": "raw",
   "metadata": {},
   "source": [
    "from sklearn import metrics\n",
    "from sklearn.linear_model import LogisticRegression\n",
    "model = LogisticRegression()\n",
    "model.fit(X_train, y_train)\n",
    "print(model)\n",
    "# make predictions\n",
    "expected = y_train\n",
    "predicted = model.predict(X_train)\n",
    "# summarize the fit of the model\n",
    "print(metrics.classification_report(expected, predicted))\n",
    "print(metrics.confusion_matrix(expected, predicted))"
   ]
  },
  {
   "cell_type": "raw",
   "metadata": {},
   "source": [
    "from sklearn import metrics\n",
    "from sklearn.ensemble import RandomForestClassifier\n",
    "# fit a CART model to the data\n",
    "model = RandomForestClassifier()\n",
    "model.fit(X_train, y_train)\n",
    "print(model)\n",
    "# make predictions\n",
    "expected = y_train\n",
    "predicted = model.predict(X_train)\n",
    "# summarize the fit of the model\n",
    "print(metrics.classification_report(expected, predicted))\n",
    "print(metrics.confusion_matrix(expected, predicted))"
   ]
  },
  {
   "cell_type": "raw",
   "metadata": {},
   "source": [
    "sns.heatmap(confusion_matrix(y_test, predictions), square=True, annot=True, cmap='RdBu', cbar=False)\n",
    "plt.xlabel('true label')\n",
    "plt.ylabel('predicted label')"
   ]
  },
  {
   "cell_type": "raw",
   "metadata": {},
   "source": [
    "for i in range(len(predictions)):\n",
    "    print(test_df.test[i],'\\t - \\t',df.loc[df['label'] == predictions[i]].values,'\\n\\n')"
   ]
  },
  {
   "cell_type": "code",
   "execution_count": null,
   "metadata": {},
   "outputs": [],
   "source": []
  }
 ],
 "metadata": {
  "kernelspec": {
   "display_name": "Python 3",
   "language": "python",
   "name": "python3"
  },
  "language_info": {
   "codemirror_mode": {
    "name": "ipython",
    "version": 3
   },
   "file_extension": ".py",
   "mimetype": "text/x-python",
   "name": "python",
   "nbconvert_exporter": "python",
   "pygments_lexer": "ipython3",
   "version": "3.6.5"
  }
 },
 "nbformat": 4,
 "nbformat_minor": 2
}
