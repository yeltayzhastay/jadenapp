{
 "cells": [
  {
   "cell_type": "code",
   "execution_count": 1,
   "metadata": {},
   "outputs": [],
   "source": [
    "import pandas as pd\n",
    "import numpy as np\n",
    "\n",
    "import re\n",
    "\n",
    "from sklearn.model_selection import train_test_split\n",
    "from sklearn.feature_extraction.text import TfidfVectorizer, CountVectorizer\n",
    "from sklearn.metrics import accuracy_score, precision_score, recall_score, confusion_matrix, f1_score\n",
    "from sklearn.naive_bayes import MultinomialNB, GaussianNB\n",
    "from sklearn.ensemble import RandomForestClassifier\n",
    "from sklearn.preprocessing import LabelEncoder\n",
    "\n",
    "import seaborn as sns\n",
    "import matplotlib.pyplot as plt"
   ]
  },
  {
   "cell_type": "code",
   "execution_count": 3,
   "metadata": {},
   "outputs": [],
   "source": [
    "def clean_str(text):\n",
    "    stripped = re.sub('[^0-9,^a-zA-Z, ^А-Я,а-я,Ә,І,Ң,Ғ,Ү,Ұ,Қ,Ө,Һ,ә,і,ə,ң,ғ,ү,ұ,қ,ө,һ]', ' ', str(text).replace('-', ' '))\n",
    "    stripped = re.sub('_', '', stripped)\n",
    "    stripped = re.sub('\\s+', ' ', stripped)\n",
    "    return stripped.replace(',','')\n",
    "    \n",
    "\n",
    "def cleaning_data(code_data):\n",
    "    question = code_data.question.tolist()\n",
    "    answer = code_data.answer.tolist()\n",
    "    sentences = []\n",
    "    for line in range(len(question)):\n",
    "        sentences.append([str(clean_str(question[line])).lower(), \n",
    "                          str(clean_str(answer[line])).lower()])\n",
    "    return pd.DataFrame(sentences, columns = ['question', 'answer'])"
   ]
  },
  {
   "cell_type": "code",
   "execution_count": 4,
   "metadata": {},
   "outputs": [
    {
     "data": {
      "text/html": [
       "<div>\n",
       "<style scoped>\n",
       "    .dataframe tbody tr th:only-of-type {\n",
       "        vertical-align: middle;\n",
       "    }\n",
       "\n",
       "    .dataframe tbody tr th {\n",
       "        vertical-align: top;\n",
       "    }\n",
       "\n",
       "    .dataframe thead th {\n",
       "        text-align: right;\n",
       "    }\n",
       "</style>\n",
       "<table border=\"1\" class=\"dataframe\">\n",
       "  <thead>\n",
       "    <tr style=\"text-align: right;\">\n",
       "      <th></th>\n",
       "      <th>question</th>\n",
       "      <th>answer</th>\n",
       "    </tr>\n",
       "  </thead>\n",
       "  <tbody>\n",
       "    <tr>\n",
       "      <th>0</th>\n",
       "      <td>а байтұрсынұлының 1909 жылы қамалғанға дейінгі...</td>\n",
       "      <td>қарқаралыда оқытушы</td>\n",
       "    </tr>\n",
       "    <tr>\n",
       "      <th>1</th>\n",
       "      <td>а байтұрсынов пен м сералин өзі жазбаларында қ...</td>\n",
       "      <td>қостанай</td>\n",
       "    </tr>\n",
       "    <tr>\n",
       "      <th>2</th>\n",
       "      <td>а байтұрсыновтың 1911 жылы орынборда жарық көр...</td>\n",
       "      <td>маса</td>\n",
       "    </tr>\n",
       "    <tr>\n",
       "      <th>3</th>\n",
       "      <td>а байтұрсыновтың орынборда жарық көрген жинағы</td>\n",
       "      <td>маса</td>\n",
       "    </tr>\n",
       "    <tr>\n",
       "      <th>4</th>\n",
       "      <td>а байтұрсыновтың өлеңдер жинағы</td>\n",
       "      <td>маса</td>\n",
       "    </tr>\n",
       "    <tr>\n",
       "      <th>...</th>\n",
       "      <td>...</td>\n",
       "      <td>...</td>\n",
       "    </tr>\n",
       "    <tr>\n",
       "      <th>15135</th>\n",
       "      <td>xx қозғалыс кезінде және жазалау нәтижесінде қ...</td>\n",
       "      <td>жарты миллион</td>\n",
       "    </tr>\n",
       "    <tr>\n",
       "      <th>15136</th>\n",
       "      <td>xx съезден кейін ақталған қайраткер</td>\n",
       "      <td>н нұрмақов</td>\n",
       "    </tr>\n",
       "    <tr>\n",
       "      <th>15137</th>\n",
       "      <td>xx съезден кейін ақталған қайраткер</td>\n",
       "      <td>с асфендияров</td>\n",
       "    </tr>\n",
       "    <tr>\n",
       "      <th>15138</th>\n",
       "      <td>xxi ғасырдың басында республикадағы мектептер...</td>\n",
       "      <td>8 мыңнан астам</td>\n",
       "    </tr>\n",
       "    <tr>\n",
       "      <th>15139</th>\n",
       "      <td>xxvii жазғы олимпиадалық ойындарының чемпиондары</td>\n",
       "      <td>б саттарханов е ибрайымов</td>\n",
       "    </tr>\n",
       "  </tbody>\n",
       "</table>\n",
       "<p>15140 rows × 2 columns</p>\n",
       "</div>"
      ],
      "text/plain": [
       "                                                question  \\\n",
       "0      а байтұрсынұлының 1909 жылы қамалғанға дейінгі...   \n",
       "1      а байтұрсынов пен м сералин өзі жазбаларында қ...   \n",
       "2      а байтұрсыновтың 1911 жылы орынборда жарық көр...   \n",
       "3        а байтұрсыновтың орынборда жарық көрген жинағы    \n",
       "4                       а байтұрсыновтың өлеңдер жинағы    \n",
       "...                                                  ...   \n",
       "15135  xx қозғалыс кезінде және жазалау нәтижесінде қ...   \n",
       "15136               xx съезден кейін ақталған қайраткер    \n",
       "15137               xx съезден кейін ақталған қайраткер    \n",
       "15138   xxi ғасырдың басында республикадағы мектептер...   \n",
       "15139  xxvii жазғы олимпиадалық ойындарының чемпиондары    \n",
       "\n",
       "                          answer  \n",
       "0            қарқаралыда оқытушы  \n",
       "1                       қостанай  \n",
       "2                          маса   \n",
       "3                          маса   \n",
       "4                          маса   \n",
       "...                          ...  \n",
       "15135              жарты миллион  \n",
       "15136                 н нұрмақов  \n",
       "15137              с асфендияров  \n",
       "15138             8 мыңнан астам  \n",
       "15139  б саттарханов е ибрайымов  \n",
       "\n",
       "[15140 rows x 2 columns]"
      ]
     },
     "execution_count": 4,
     "metadata": {},
     "output_type": "execute_result"
    }
   ],
   "source": [
    "df = pd.read_csv('dataset/tarih.csv')\n",
    "df = cleaning_data(df)\n",
    "df"
   ]
  },
  {
   "cell_type": "code",
   "execution_count": 5,
   "metadata": {},
   "outputs": [
    {
     "data": {
      "text/html": [
       "<div>\n",
       "<style scoped>\n",
       "    .dataframe tbody tr th:only-of-type {\n",
       "        vertical-align: middle;\n",
       "    }\n",
       "\n",
       "    .dataframe tbody tr th {\n",
       "        vertical-align: top;\n",
       "    }\n",
       "\n",
       "    .dataframe thead th {\n",
       "        text-align: right;\n",
       "    }\n",
       "</style>\n",
       "<table border=\"1\" class=\"dataframe\">\n",
       "  <thead>\n",
       "    <tr style=\"text-align: right;\">\n",
       "      <th></th>\n",
       "      <th>question</th>\n",
       "      <th>answer</th>\n",
       "      <th>label</th>\n",
       "    </tr>\n",
       "  </thead>\n",
       "  <tbody>\n",
       "    <tr>\n",
       "      <th>0</th>\n",
       "      <td>а байтұрсынұлының 1909 жылы қамалғанға дейінгі...</td>\n",
       "      <td>қарқаралыда оқытушы</td>\n",
       "      <td>10413</td>\n",
       "    </tr>\n",
       "    <tr>\n",
       "      <th>1</th>\n",
       "      <td>а байтұрсынов пен м сералин өзі жазбаларында қ...</td>\n",
       "      <td>қостанай</td>\n",
       "      <td>10526</td>\n",
       "    </tr>\n",
       "    <tr>\n",
       "      <th>2</th>\n",
       "      <td>а байтұрсыновтың 1911 жылы орынборда жарық көр...</td>\n",
       "      <td>маса</td>\n",
       "      <td>935</td>\n",
       "    </tr>\n",
       "    <tr>\n",
       "      <th>3</th>\n",
       "      <td>а байтұрсыновтың орынборда жарық көрген жинағы</td>\n",
       "      <td>маса</td>\n",
       "      <td>935</td>\n",
       "    </tr>\n",
       "    <tr>\n",
       "      <th>4</th>\n",
       "      <td>а байтұрсыновтың өлеңдер жинағы</td>\n",
       "      <td>маса</td>\n",
       "      <td>935</td>\n",
       "    </tr>\n",
       "    <tr>\n",
       "      <th>...</th>\n",
       "      <td>...</td>\n",
       "      <td>...</td>\n",
       "      <td>...</td>\n",
       "    </tr>\n",
       "    <tr>\n",
       "      <th>15135</th>\n",
       "      <td>xx қозғалыс кезінде және жазалау нәтижесінде қ...</td>\n",
       "      <td>жарты миллион</td>\n",
       "      <td>6551</td>\n",
       "    </tr>\n",
       "    <tr>\n",
       "      <th>15136</th>\n",
       "      <td>xx съезден кейін ақталған қайраткер</td>\n",
       "      <td>н нұрмақов</td>\n",
       "      <td>7744</td>\n",
       "    </tr>\n",
       "    <tr>\n",
       "      <th>15137</th>\n",
       "      <td>xx съезден кейін ақталған қайраткер</td>\n",
       "      <td>с асфендияров</td>\n",
       "      <td>1103</td>\n",
       "    </tr>\n",
       "    <tr>\n",
       "      <th>15138</th>\n",
       "      <td>xxi ғасырдың басында республикадағы мектептер...</td>\n",
       "      <td>8 мыңнан астам</td>\n",
       "      <td>445</td>\n",
       "    </tr>\n",
       "    <tr>\n",
       "      <th>15139</th>\n",
       "      <td>xxvii жазғы олимпиадалық ойындарының чемпиондары</td>\n",
       "      <td>б саттарханов е ибрайымов</td>\n",
       "      <td>5501</td>\n",
       "    </tr>\n",
       "  </tbody>\n",
       "</table>\n",
       "<p>15140 rows × 3 columns</p>\n",
       "</div>"
      ],
      "text/plain": [
       "                                                question  \\\n",
       "0      а байтұрсынұлының 1909 жылы қамалғанға дейінгі...   \n",
       "1      а байтұрсынов пен м сералин өзі жазбаларында қ...   \n",
       "2      а байтұрсыновтың 1911 жылы орынборда жарық көр...   \n",
       "3        а байтұрсыновтың орынборда жарық көрген жинағы    \n",
       "4                       а байтұрсыновтың өлеңдер жинағы    \n",
       "...                                                  ...   \n",
       "15135  xx қозғалыс кезінде және жазалау нәтижесінде қ...   \n",
       "15136               xx съезден кейін ақталған қайраткер    \n",
       "15137               xx съезден кейін ақталған қайраткер    \n",
       "15138   xxi ғасырдың басында республикадағы мектептер...   \n",
       "15139  xxvii жазғы олимпиадалық ойындарының чемпиондары    \n",
       "\n",
       "                          answer  label  \n",
       "0            қарқаралыда оқытушы  10413  \n",
       "1                       қостанай  10526  \n",
       "2                          маса     935  \n",
       "3                          маса     935  \n",
       "4                          маса     935  \n",
       "...                          ...    ...  \n",
       "15135              жарты миллион   6551  \n",
       "15136                 н нұрмақов   7744  \n",
       "15137              с асфендияров   1103  \n",
       "15138             8 мыңнан астам    445  \n",
       "15139  б саттарханов е ибрайымов   5501  \n",
       "\n",
       "[15140 rows x 3 columns]"
      ]
     },
     "execution_count": 5,
     "metadata": {},
     "output_type": "execute_result"
    }
   ],
   "source": [
    "le = LabelEncoder()\n",
    "df['label'] = le.fit_transform(df['answer'])\n",
    "df"
   ]
  },
  {
   "cell_type": "code",
   "execution_count": 6,
   "metadata": {},
   "outputs": [
    {
     "data": {
      "text/plain": [
       "11154"
      ]
     },
     "execution_count": 6,
     "metadata": {},
     "output_type": "execute_result"
    }
   ],
   "source": [
    "df['label'].max()"
   ]
  },
  {
   "cell_type": "code",
   "execution_count": 33,
   "metadata": {},
   "outputs": [],
   "source": [
    "import csv\n",
    "import tensorflow as tf\n",
    "import numpy as np\n",
    "from tensorflow.keras.preprocessing.text import Tokenizer\n",
    "from tensorflow.keras.preprocessing.sequence import pad_sequences\n",
    "\n",
    "#!wget --no-check-certificate \\https://storage.googleapis.com/laurencemoroney-blog.appspot.com/bbc-text.csv \\-O /tmp/bbc-text.csv"
   ]
  },
  {
   "cell_type": "code",
   "execution_count": 58,
   "metadata": {},
   "outputs": [],
   "source": [
    "vocab_size = 10000\n",
    "embedding_dim = 16\n",
    "max_length = 250\n",
    "trunc_type = 'post'\n",
    "padding_type = 'post'\n",
    "oov_tok = '<OOV>'\n",
    "training_portion = 0.8"
   ]
  },
  {
   "cell_type": "raw",
   "metadata": {},
   "source": [
    "sentences = []\n",
    "labels = []\n",
    "stopwords = [ \"a\", \"about\", \"above\", \"after\", \"again\", \"against\", \"all\", \"am\", \"an\", \"and\", \"any\", \"are\", \"as\", \"at\", \"be\", \"because\", \"been\", \"before\", \"being\", \"below\", \"between\", \"both\", \"but\", \"by\", \"could\", \"did\", \"do\", \"does\", \"doing\", \"down\", \"during\", \"each\", \"few\", \"for\", \"from\", \"further\", \"had\", \"has\", \"have\", \"having\", \"he\", \"he'd\", \"he'll\", \"he's\", \"her\", \"here\", \"here's\", \"hers\", \"herself\", \"him\", \"himself\", \"his\", \"how\", \"how's\", \"i\", \"i'd\", \"i'll\", \"i'm\", \"i've\", \"if\", \"in\", \"into\", \"is\", \"it\", \"it's\", \"its\", \"itself\", \"let's\", \"me\", \"more\", \"most\", \"my\", \"myself\", \"nor\", \"of\", \"on\", \"once\", \"only\", \"or\", \"other\", \"ought\", \"our\", \"ours\", \"ourselves\", \"out\", \"over\", \"own\", \"same\", \"she\", \"she'd\", \"she'll\", \"she's\", \"should\", \"so\", \"some\", \"such\", \"than\", \"that\", \"that's\", \"the\", \"their\", \"theirs\", \"them\", \"themselves\", \"then\", \"there\", \"there's\", \"these\", \"they\", \"they'd\", \"they'll\", \"they're\", \"they've\", \"this\", \"those\", \"through\", \"to\", \"too\", \"under\", \"until\", \"up\", \"very\", \"was\", \"we\", \"we'd\", \"we'll\", \"we're\", \"we've\", \"were\", \"what\", \"what's\", \"when\", \"when's\", \"where\", \"where's\", \"which\", \"while\", \"who\", \"who's\", \"whom\", \"why\", \"why's\", \"with\", \"would\", \"you\", \"you'd\", \"you'll\", \"you're\", \"you've\", \"your\", \"yours\", \"yourself\", \"yourselves\" ]\n",
    "with open(\"bbc-text.csv\", 'r') as csvfile:\n",
    "    reader = csv.reader(csvfile, delimiter=',')\n",
    "    next(reader)\n",
    "    for row in reader:\n",
    "        labels.append(row[0])\n",
    "        sentence = row[1]\n",
    "        for word in stopwords:\n",
    "            token = \" \" + word + \" \"\n",
    "            sentence = sentence.replace(token, \" \")\n",
    "            sentences.append(sentence)\n",
    "            print(len(labels))\n",
    "            print(len(sentences))\n",
    "            print(sentences[0])"
   ]
  },
  {
   "cell_type": "code",
   "execution_count": 77,
   "metadata": {},
   "outputs": [],
   "source": [
    "df['label'] = df['label'].astype(str)"
   ]
  },
  {
   "cell_type": "code",
   "execution_count": 78,
   "metadata": {},
   "outputs": [],
   "source": [
    "sentences = df.question.tolist()\n",
    "labels = df.label.tolist()"
   ]
  },
  {
   "cell_type": "code",
   "execution_count": 79,
   "metadata": {},
   "outputs": [
    {
     "name": "stdout",
     "output_type": "stream",
     "text": [
      "12112\n",
      "12112\n",
      "12112\n",
      "3028\n",
      "3028\n"
     ]
    }
   ],
   "source": [
    "train_size = int(training_portion * len(labels))\n",
    "train_sentences = sentences[:train_size]\n",
    "train_labels = labels[:train_size]\n",
    "validation_sentences = sentences[train_size:]\n",
    "validation_labels = labels[train_size:]\n",
    "print(train_size)\n",
    "print(len(train_sentences))\n",
    "print(len(train_labels))\n",
    "print(len(validation_sentences))\n",
    "print(len(validation_labels))"
   ]
  },
  {
   "cell_type": "code",
   "execution_count": 80,
   "metadata": {},
   "outputs": [],
   "source": [
    "tokenizer = Tokenizer(num_words = vocab_size, oov_token = oov_tok)\n",
    "tokenizer.fit_on_texts(train_sentences)\n",
    "word_index = tokenizer.word_index\n",
    "train_sequences = tokenizer.texts_to_sequences(train_sentences)\n",
    "train_padded = pad_sequences(train_sequences, padding=padding_type, maxlen=max_length)\n",
    "validation_sequences = tokenizer.texts_to_sequences(validation_sentences)\n",
    "validation_padded = pad_sequences(validation_sequences, padding = padding_type, maxlen=max_length)"
   ]
  },
  {
   "cell_type": "code",
   "execution_count": 81,
   "metadata": {},
   "outputs": [],
   "source": [
    "label_tokenizer = Tokenizer()\n",
    "label_tokenizer.fit_on_texts(labels)\n",
    "training_label_seq = np.array(label_tokenizer.texts_to_sequences(train_labels))\n",
    "validation_label_seq = np.array(label_tokenizer.texts_to_sequences(validation_labels))"
   ]
  },
  {
   "cell_type": "code",
   "execution_count": 93,
   "metadata": {},
   "outputs": [
    {
     "name": "stdout",
     "output_type": "stream",
     "text": [
      "Model: \"sequential_7\"\n",
      "_________________________________________________________________\n",
      "Layer (type)                 Output Shape              Param #   \n",
      "=================================================================\n",
      "embedding_7 (Embedding)      (None, 250, 16)           160000    \n",
      "_________________________________________________________________\n",
      "global_average_pooling1d_7 ( (None, 16)                0         \n",
      "_________________________________________________________________\n",
      "dense_14 (Dense)             (None, 24)                408       \n",
      "_________________________________________________________________\n",
      "dense_15 (Dense)             (None, 11156)             278900    \n",
      "=================================================================\n",
      "Total params: 439,308\n",
      "Trainable params: 439,308\n",
      "Non-trainable params: 0\n",
      "_________________________________________________________________\n"
     ]
    }
   ],
   "source": [
    "model = tf.keras.Sequential([\n",
    " tf.keras.layers.Embedding(vocab_size, embedding_dim, input_length=max_length),\n",
    " tf.keras.layers.GlobalAveragePooling1D(),\n",
    " tf.keras.layers.Dense(24, activation='relu'),\n",
    " tf.keras.layers.Dense(11156, activation='linear')\n",
    "])\n",
    "\n",
    "model.compile(loss='mse', optimizer='adam', metrics=['accuracy'])\n",
    "model.summary()"
   ]
  },
  {
   "cell_type": "code",
   "execution_count": 94,
   "metadata": {},
   "outputs": [
    {
     "data": {
      "text/plain": [
       "array([[ 495, 4304,   13, ...,    0,    0,    0],\n",
       "       [ 495, 4304,   13, ...,    0,    0,    0],\n",
       "       [2668, 2010,   80, ...,    0,    0,    0],\n",
       "       ...,\n",
       "       [1784,    1,   45, ...,    0,    0,    0],\n",
       "       [   1,  625,  745, ...,    0,    0,    0],\n",
       "       [   1, 3158,    1, ...,    0,    0,    0]])"
      ]
     },
     "execution_count": 94,
     "metadata": {},
     "output_type": "execute_result"
    }
   ],
   "source": [
    "validation_padded"
   ]
  },
  {
   "cell_type": "code",
   "execution_count": 95,
   "metadata": {},
   "outputs": [
    {
     "data": {
      "text/plain": [
       "array([[ 1282],\n",
       "       [ 9403],\n",
       "       [ 9404],\n",
       "       ...,\n",
       "       [ 1875],\n",
       "       [11154],\n",
       "       [11155]])"
      ]
     },
     "execution_count": 95,
     "metadata": {},
     "output_type": "execute_result"
    }
   ],
   "source": [
    "validation_label_seq"
   ]
  },
  {
   "cell_type": "code",
   "execution_count": 96,
   "metadata": {},
   "outputs": [
    {
     "name": "stdout",
     "output_type": "stream",
     "text": [
      "Epoch 1/20\n",
      "379/379 - 2s - loss: 22799042.0000 - accuracy: 8.2563e-05 - val_loss: 60612572.0000 - val_accuracy: 0.0000e+00\n",
      "Epoch 2/20\n",
      "379/379 - 2s - loss: 20217112.0000 - accuracy: 8.2563e-05 - val_loss: 52225952.0000 - val_accuracy: 0.0000e+00\n",
      "Epoch 3/20\n",
      "379/379 - 2s - loss: 14234663.0000 - accuracy: 8.2563e-05 - val_loss: 39068336.0000 - val_accuracy: 0.0000e+00\n",
      "Epoch 4/20\n",
      "379/379 - 2s - loss: 9818874.0000 - accuracy: 8.2563e-05 - val_loss: 30846456.0000 - val_accuracy: 0.0000e+00\n",
      "Epoch 5/20\n",
      "379/379 - 2s - loss: 8850404.0000 - accuracy: 8.2563e-05 - val_loss: 28647132.0000 - val_accuracy: 0.0000e+00\n",
      "Epoch 6/20\n",
      "379/379 - 2s - loss: 8793908.0000 - accuracy: 8.2563e-05 - val_loss: 28346688.0000 - val_accuracy: 0.0000e+00\n",
      "Epoch 7/20\n",
      "379/379 - 2s - loss: 8788723.0000 - accuracy: 8.2563e-05 - val_loss: 28302586.0000 - val_accuracy: 0.0000e+00\n",
      "Epoch 8/20\n",
      "379/379 - 2s - loss: 8783048.0000 - accuracy: 8.2563e-05 - val_loss: 28609032.0000 - val_accuracy: 0.0000e+00\n",
      "Epoch 9/20\n",
      "379/379 - 2s - loss: 8778747.0000 - accuracy: 8.2563e-05 - val_loss: 28345586.0000 - val_accuracy: 0.0000e+00\n",
      "Epoch 10/20\n",
      "379/379 - 2s - loss: 8773051.0000 - accuracy: 8.2563e-05 - val_loss: 28363004.0000 - val_accuracy: 0.0000e+00\n",
      "Epoch 11/20\n",
      "379/379 - 2s - loss: 8767329.0000 - accuracy: 8.2563e-05 - val_loss: 28441098.0000 - val_accuracy: 0.0000e+00\n",
      "Epoch 12/20\n",
      "379/379 - 2s - loss: 8762590.0000 - accuracy: 8.2563e-05 - val_loss: 28463378.0000 - val_accuracy: 0.0000e+00\n",
      "Epoch 13/20\n",
      "379/379 - 2s - loss: 8758494.0000 - accuracy: 8.2563e-05 - val_loss: 28378666.0000 - val_accuracy: 0.0000e+00\n",
      "Epoch 14/20\n",
      "379/379 - 2s - loss: 8753225.0000 - accuracy: 0.0000e+00 - val_loss: 28239502.0000 - val_accuracy: 0.0000e+00\n",
      "Epoch 15/20\n",
      "379/379 - 2s - loss: 8747812.0000 - accuracy: 2.4769e-04 - val_loss: 28166438.0000 - val_accuracy: 0.0000e+00\n",
      "Epoch 16/20\n",
      "379/379 - 2s - loss: 8742173.0000 - accuracy: 8.2563e-05 - val_loss: 28398266.0000 - val_accuracy: 0.0000e+00\n",
      "Epoch 17/20\n",
      "379/379 - 2s - loss: 8738113.0000 - accuracy: 8.2563e-05 - val_loss: 28075424.0000 - val_accuracy: 0.0000e+00\n",
      "Epoch 18/20\n",
      "379/379 - 2s - loss: 8733231.0000 - accuracy: 1.6513e-04 - val_loss: 28180318.0000 - val_accuracy: 0.0000e+00\n",
      "Epoch 19/20\n",
      "379/379 - 3s - loss: 8727612.0000 - accuracy: 1.6513e-04 - val_loss: 28104526.0000 - val_accuracy: 0.0000e+00\n",
      "Epoch 20/20\n",
      "379/379 - 2s - loss: 8722047.0000 - accuracy: 0.0000e+00 - val_loss: 28222284.0000 - val_accuracy: 6.6050e-04\n"
     ]
    }
   ],
   "source": [
    "num_epochs = 20\n",
    "history = model.fit(train_padded, training_label_seq, epochs = num_epochs, validation_data=(validation_padded, validation_label_seq), verbose=2)"
   ]
  },
  {
   "cell_type": "code",
   "execution_count": 97,
   "metadata": {},
   "outputs": [
    {
     "data": {
      "image/png": "[encoded data removed]",
      "text/plain": [
       "<Figure size 432x288 with 1 Axes>"
      ]
     },
     "metadata": {
      "needs_background": "light"
     },
     "output_type": "display_data"
    },
    {
     "data": {
      "image/png": "[encoded data removed]",
      "text/plain": [
       "<Figure size 432x288 with 1 Axes>"
      ]
     },
     "metadata": {
      "needs_background": "light"
     },
     "output_type": "display_data"
    }
   ],
   "source": [
    "def plot_graphs(history, string):\n",
    "    plt.plot(history.history[string])\n",
    "    plt.plot(history.history['val_'+string])\n",
    "    plt.xlabel(\"Epochs\")\n",
    "    plt.ylabel(string)\n",
    "    plt.legend([string, 'val_'+string])\n",
    "    plt.show()\n",
    "\n",
    "plot_graphs(history, \"accuracy\")\n",
    "plot_graphs(history, \"loss\")"
   ]
  },
  {
   "cell_type": "code",
   "execution_count": null,
   "metadata": {},
   "outputs": [],
   "source": []
  }
 ],
 "metadata": {
  "kernelspec": {
   "display_name": "Python 3",
   "language": "python",
   "name": "python3"
  },
  "language_info": {
   "codemirror_mode": {
    "name": "ipython",
    "version": 3
   },
   "file_extension": ".py",
   "mimetype": "text/x-python",
   "name": "python",
   "nbconvert_exporter": "python",
   "pygments_lexer": "ipython3",
   "version": "3.6.5"
  }
 },
 "nbformat": 4,
 "nbformat_minor": 4
}
