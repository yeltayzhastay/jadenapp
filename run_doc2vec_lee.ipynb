{
 "cells": [
  {
   "cell_type": "code",
   "execution_count": 26,
   "metadata": {},
   "outputs": [],
   "source": [
    "%matplotlib inline"
   ]
  },
  {
   "cell_type": "markdown",
   "metadata": {},
   "source": [
    "\n",
    "Doc2Vec Model\n",
    "=============\n",
    "\n",
    "Introduces Gensim's Doc2Vec model and demonstrates its use on the Lee Corpus.\n",
    "\n",
    "\n"
   ]
  },
  {
   "cell_type": "code",
   "execution_count": 27,
   "metadata": {},
   "outputs": [],
   "source": [
    "import logging\n",
    "logging.basicConfig(format='%(asctime)s : %(levelname)s : %(message)s', level=logging.INFO)"
   ]
  },
  {
   "cell_type": "markdown",
   "metadata": {},
   "source": [
    "Doc2Vec is a `core_concepts_model` that represents each\n",
    "`core_concepts_document` as a `core_concepts_vector`.  This\n",
    "tutorial introduces the model and demonstrates how to train and assess it.\n",
    "\n",
    "Here's a list of what we'll be doing:\n",
    "\n",
    "0. Review the relevant models: bag-of-words, Word2Vec, Doc2Vec\n",
    "1. Load and preprocess the training and test corpora (see `core_concepts_corpus`)\n",
    "2. Train a Doc2Vec `core_concepts_model` model using the training corpus\n",
    "3. Demonstrate how the trained model can be used to infer a `core_concepts_vector`\n",
    "4. Assess the model\n",
    "5. Test the model on the test corpus\n",
    "\n",
    "Review: Bag-of-words\n",
    "--------------------\n",
    "\n",
    ".. Note:: Feel free to skip these review sections if you're already familiar with the models.\n",
    "\n",
    "You may be familiar with the `bag-of-words model\n",
    "<https://en.wikipedia.org/wiki/Bag-of-words_model>`_ from the\n",
    "`core_concepts_vector` section.\n",
    "This model transforms each document to a fixed-length vector of integers.\n",
    "For example, given the sentences:\n",
    "\n",
    "- ``John likes to watch movies. Mary likes movies too.``\n",
    "- ``John also likes to watch football games. Mary hates football.``\n",
    "\n",
    "The model outputs the vectors:\n",
    "\n",
    "- ``[1, 2, 1, 1, 2, 1, 1, 0, 0, 0, 0]``\n",
    "- ``[1, 1, 1, 1, 0, 1, 0, 1, 2, 1, 1]``\n",
    "\n",
    "Each vector has 10 elements, where each element counts the number of times a\n",
    "particular word occurred in the document.\n",
    "The order of elements is arbitrary.\n",
    "In the example above, the order of the elements corresponds to the words:\n",
    "``[\"John\", \"likes\", \"to\", \"watch\", \"movies\", \"Mary\", \"too\", \"also\", \"football\", \"games\", \"hates\"]``.\n",
    "\n",
    "Bag-of-words models are surprisingly effective, but have several weaknesses.\n",
    "\n",
    "First, they lose all information about word order: \"John likes Mary\" and\n",
    "\"Mary likes John\" correspond to identical vectors. There is a solution: bag\n",
    "of `n-grams <https://en.wikipedia.org/wiki/N-gram>`__\n",
    "models consider word phrases of length n to represent documents as\n",
    "fixed-length vectors to capture local word order but suffer from data\n",
    "sparsity and high dimensionality.\n",
    "\n",
    "Second, the model does not attempt to learn the meaning of the underlying\n",
    "words, and as a consequence, the distance between vectors doesn't always\n",
    "reflect the difference in meaning.  The ``Word2Vec`` model addresses this\n",
    "second problem.\n",
    "\n",
    "Review: ``Word2Vec`` Model\n",
    "--------------------------\n",
    "\n",
    "``Word2Vec`` is a more recent model that embeds words in a lower-dimensional\n",
    "vector space using a shallow neural network. The result is a set of\n",
    "word-vectors where vectors close together in vector space have similar\n",
    "meanings based on context, and word-vectors distant to each other have\n",
    "differing meanings. For example, ``strong`` and ``powerful`` would be close\n",
    "together and ``strong`` and ``Paris`` would be relatively far.\n",
    "\n",
    "Gensim's :py:class:`~gensim.models.word2vec.Word2Vec` class implements this model.\n",
    "\n",
    "With the ``Word2Vec`` model, we can calculate the vectors for each **word** in a document.\n",
    "But what if we want to calculate a vector for the **entire document**\\ ?\n",
    "We could average the vectors for each word in the document - while this is quick and crude, it can often be useful.\n",
    "However, there is a better way...\n",
    "\n",
    "Introducing: Paragraph Vector\n",
    "-----------------------------\n",
    "\n",
    ".. Important:: In Gensim, we refer to the Paragraph Vector model as ``Doc2Vec``.\n",
    "\n",
    "Le and Mikolov in 2014 introduced the `Doc2Vec algorithm <https://cs.stanford.edu/~quocle/paragraph_vector.pdf>`__, which usually outperforms such simple-averaging of ``Word2Vec`` vectors.\n",
    "\n",
    "The basic idea is: act as if a document has another floating word-like\n",
    "vector, which contributes to all training predictions, and is updated like\n",
    "other word-vectors, but we will call it a doc-vector. Gensim's\n",
    ":py:class:`~gensim.models.doc2vec.Doc2Vec` class implements this algorithm.\n",
    "\n",
    "There are two implementations:\n",
    "\n",
    "1. Paragraph Vector - Distributed Memory (PV-DM)\n",
    "2. Paragraph Vector - Distributed Bag of Words (PV-DBOW)\n",
    "\n",
    ".. Important::\n",
    "  Don't let the implementation details below scare you.\n",
    "  They're advanced material: if it's too much, then move on to the next section.\n",
    "\n",
    "PV-DM is analogous to Word2Vec CBOW. The doc-vectors are obtained by training\n",
    "a neural network on the synthetic task of predicting a center word based an\n",
    "average of both context word-vectors and the full document's doc-vector.\n",
    "\n",
    "PV-DBOW is analogous to Word2Vec SG. The doc-vectors are obtained by training\n",
    "a neural network on the synthetic task of predicting a target word just from\n",
    "the full document's doc-vector. (It is also common to combine this with\n",
    "skip-gram testing, using both the doc-vector and nearby word-vectors to\n",
    "predict a single target word, but only one at a time.)\n",
    "\n",
    "Prepare the Training and Test Data\n",
    "----------------------------------\n",
    "\n",
    "For this tutorial, we'll be training our model using the `Lee Background\n",
    "Corpus\n",
    "<https://hekyll.services.adelaide.edu.au/dspace/bitstream/2440/28910/1/hdl_28910.pdf>`_\n",
    "included in gensim. This corpus contains 314 documents selected from the\n",
    "Australian Broadcasting Corporation’s news mail service, which provides text\n",
    "e-mails of headline stories and covers a number of broad topics.\n",
    "\n",
    "And we'll test our model by eye using the much shorter `Lee Corpus\n",
    "<https://hekyll.services.adelaide.edu.au/dspace/bitstream/2440/28910/1/hdl_28910.pdf>`_\n",
    "which contains 50 documents.\n",
    "\n",
    "\n"
   ]
  },
  {
   "cell_type": "code",
   "execution_count": 28,
   "metadata": {},
   "outputs": [],
   "source": [
    "import os\n",
    "import gensim\n",
    "# Set file names for train and test data\n",
    "test_data_dir = os.path.join(gensim.__path__[0], 'test', 'test_data')\n",
    "lee_train_file = os.path.join(test_data_dir, 'lee_background.cor')\n",
    "lee_test_file = os.path.join(test_data_dir, 'lee.cor')"
   ]
  },
  {
   "cell_type": "markdown",
   "metadata": {},
   "source": [
    "Define a Function to Read and Preprocess Text\n",
    "---------------------------------------------\n",
    "\n",
    "Below, we define a function to:\n",
    "\n",
    "- open the train/test file (with latin encoding)\n",
    "- read the file line-by-line\n",
    "- pre-process each line (tokenize text into individual words, remove punctuation, set to lowercase, etc)\n",
    "\n",
    "The file we're reading is a **corpus**.\n",
    "Each line of the file is a **document**.\n",
    "\n",
    ".. Important::\n",
    "  To train the model, we'll need to associate a tag/number with each document\n",
    "  of the training corpus. In our case, the tag is simply the zero-based line\n",
    "  number.\n",
    "\n",
    "\n"
   ]
  },
  {
   "cell_type": "code",
   "execution_count": 29,
   "metadata": {},
   "outputs": [],
   "source": [
    "import smart_open\n",
    "\n",
    "def read_corpus(fname, tokens_only=False):\n",
    "    with smart_open.open(fname, encoding=\"iso-8859-1\") as f:\n",
    "        for i, line in enumerate(f):\n",
    "            tokens = gensim.utils.simple_preprocess(line)\n",
    "            if tokens_only:\n",
    "                yield tokens\n",
    "            else:\n",
    "                # For training data, add tags\n",
    "                yield gensim.models.doc2vec.TaggedDocument(tokens, [i])\n",
    "\n",
    "train_corpus = list(read_corpus(lee_train_file))\n",
    "test_corpus = list(read_corpus(lee_test_file, tokens_only=True))"
   ]
  },
  {
   "cell_type": "code",
   "execution_count": 32,
   "metadata": {},
   "outputs": [
    {
     "data": {
      "text/plain": [
       "['line',\n",
       " 'dawd',\n",
       " 'awd',\n",
       " 'dwa',\n",
       " 'dwadaw',\n",
       " 'dadwada',\n",
       " 'dw',\n",
       " 'wd',\n",
       " 'dw',\n",
       " 'dw',\n",
       " 'dw']"
      ]
     },
     "execution_count": 32,
     "metadata": {},
     "output_type": "execute_result"
    }
   ],
   "source": [
    "gensim.utils.simple_preprocess(\"line dawd awd dwa dwadaw dadwada dw wd dw dw dw\")"
   ]
  },
  {
   "cell_type": "markdown",
   "metadata": {},
   "source": [
    "Let's take a look at the training corpus\n",
    "\n",
    "\n"
   ]
  },
  {
   "cell_type": "code",
   "execution_count": 14,
   "metadata": {},
   "outputs": [
    {
     "name": "stdout",
     "output_type": "stream",
     "text": [
      "[TaggedDocument(words=['hundreds', 'of', 'people', 'have', 'been', 'forced', 'to', 'vacate', 'their', 'homes', 'in', 'the', 'southern', 'highlands', 'of', 'new', 'south', 'wales', 'as', 'strong', 'winds', 'today', 'pushed', 'huge', 'bushfire', 'towards', 'the', 'town', 'of', 'hill', 'top', 'new', 'blaze', 'near', 'goulburn', 'south', 'west', 'of', 'sydney', 'has', 'forced', 'the', 'closure', 'of', 'the', 'hume', 'highway', 'at', 'about', 'pm', 'aedt', 'marked', 'deterioration', 'in', 'the', 'weather', 'as', 'storm', 'cell', 'moved', 'east', 'across', 'the', 'blue', 'mountains', 'forced', 'authorities', 'to', 'make', 'decision', 'to', 'evacuate', 'people', 'from', 'homes', 'in', 'outlying', 'streets', 'at', 'hill', 'top', 'in', 'the', 'new', 'south', 'wales', 'southern', 'highlands', 'an', 'estimated', 'residents', 'have', 'left', 'their', 'homes', 'for', 'nearby', 'mittagong', 'the', 'new', 'south', 'wales', 'rural', 'fire', 'service', 'says', 'the', 'weather', 'conditions', 'which', 'caused', 'the', 'fire', 'to', 'burn', 'in', 'finger', 'formation', 'have', 'now', 'eased', 'and', 'about', 'fire', 'units', 'in', 'and', 'around', 'hill', 'top', 'are', 'optimistic', 'of', 'defending', 'all', 'properties', 'as', 'more', 'than', 'blazes', 'burn', 'on', 'new', 'year', 'eve', 'in', 'new', 'south', 'wales', 'fire', 'crews', 'have', 'been', 'called', 'to', 'new', 'fire', 'at', 'gunning', 'south', 'of', 'goulburn', 'while', 'few', 'details', 'are', 'available', 'at', 'this', 'stage', 'fire', 'authorities', 'says', 'it', 'has', 'closed', 'the', 'hume', 'highway', 'in', 'both', 'directions', 'meanwhile', 'new', 'fire', 'in', 'sydney', 'west', 'is', 'no', 'longer', 'threatening', 'properties', 'in', 'the', 'cranebrook', 'area', 'rain', 'has', 'fallen', 'in', 'some', 'parts', 'of', 'the', 'illawarra', 'sydney', 'the', 'hunter', 'valley', 'and', 'the', 'north', 'coast', 'but', 'the', 'bureau', 'of', 'meteorology', 'claire', 'richards', 'says', 'the', 'rain', 'has', 'done', 'little', 'to', 'ease', 'any', 'of', 'the', 'hundred', 'fires', 'still', 'burning', 'across', 'the', 'state', 'the', 'falls', 'have', 'been', 'quite', 'isolated', 'in', 'those', 'areas', 'and', 'generally', 'the', 'falls', 'have', 'been', 'less', 'than', 'about', 'five', 'millimetres', 'she', 'said', 'in', 'some', 'places', 'really', 'not', 'significant', 'at', 'all', 'less', 'than', 'millimetre', 'so', 'there', 'hasn', 'been', 'much', 'relief', 'as', 'far', 'as', 'rain', 'is', 'concerned', 'in', 'fact', 'they', 've', 'probably', 'hampered', 'the', 'efforts', 'of', 'the', 'firefighters', 'more', 'because', 'of', 'the', 'wind', 'gusts', 'that', 'are', 'associated', 'with', 'those', 'thunderstorms'], tags=[0]), TaggedDocument(words=['indian', 'security', 'forces', 'have', 'shot', 'dead', 'eight', 'suspected', 'militants', 'in', 'night', 'long', 'encounter', 'in', 'southern', 'kashmir', 'the', 'shootout', 'took', 'place', 'at', 'dora', 'village', 'some', 'kilometers', 'south', 'of', 'the', 'kashmiri', 'summer', 'capital', 'srinagar', 'the', 'deaths', 'came', 'as', 'pakistani', 'police', 'arrested', 'more', 'than', 'two', 'dozen', 'militants', 'from', 'extremist', 'groups', 'accused', 'of', 'staging', 'an', 'attack', 'on', 'india', 'parliament', 'india', 'has', 'accused', 'pakistan', 'based', 'lashkar', 'taiba', 'and', 'jaish', 'mohammad', 'of', 'carrying', 'out', 'the', 'attack', 'on', 'december', 'at', 'the', 'behest', 'of', 'pakistani', 'military', 'intelligence', 'military', 'tensions', 'have', 'soared', 'since', 'the', 'raid', 'with', 'both', 'sides', 'massing', 'troops', 'along', 'their', 'border', 'and', 'trading', 'tit', 'for', 'tat', 'diplomatic', 'sanctions', 'yesterday', 'pakistan', 'announced', 'it', 'had', 'arrested', 'lashkar', 'taiba', 'chief', 'hafiz', 'mohammed', 'saeed', 'police', 'in', 'karachi', 'say', 'it', 'is', 'likely', 'more', 'raids', 'will', 'be', 'launched', 'against', 'the', 'two', 'groups', 'as', 'well', 'as', 'other', 'militant', 'organisations', 'accused', 'of', 'targetting', 'india', 'military', 'tensions', 'between', 'india', 'and', 'pakistan', 'have', 'escalated', 'to', 'level', 'not', 'seen', 'since', 'their', 'war'], tags=[1])]\n"
     ]
    }
   ],
   "source": [
    "print(train_corpus[:2])"
   ]
  },
  {
   "cell_type": "markdown",
   "metadata": {},
   "source": [
    "And the testing corpus looks like this:\n",
    "\n",
    "\n"
   ]
  },
  {
   "cell_type": "code",
   "execution_count": 15,
   "metadata": {},
   "outputs": [
    {
     "name": "stdout",
     "output_type": "stream",
     "text": [
      "[['the', 'national', 'executive', 'of', 'the', 'strife', 'torn', 'democrats', 'last', 'night', 'appointed', 'little', 'known', 'west', 'australian', 'senator', 'brian', 'greig', 'as', 'interim', 'leader', 'shock', 'move', 'likely', 'to', 'provoke', 'further', 'conflict', 'between', 'the', 'party', 'senators', 'and', 'its', 'organisation', 'in', 'move', 'to', 'reassert', 'control', 'over', 'the', 'party', 'seven', 'senators', 'the', 'national', 'executive', 'last', 'night', 'rejected', 'aden', 'ridgeway', 'bid', 'to', 'become', 'interim', 'leader', 'in', 'favour', 'of', 'senator', 'greig', 'supporter', 'of', 'deposed', 'leader', 'natasha', 'stott', 'despoja', 'and', 'an', 'outspoken', 'gay', 'rights', 'activist'], ['cash', 'strapped', 'financial', 'services', 'group', 'amp', 'has', 'shelved', 'million', 'plan', 'to', 'buy', 'shares', 'back', 'from', 'investors', 'and', 'will', 'raise', 'million', 'in', 'fresh', 'capital', 'after', 'profits', 'crashed', 'in', 'the', 'six', 'months', 'to', 'june', 'chief', 'executive', 'paul', 'batchelor', 'said', 'the', 'result', 'was', 'solid', 'in', 'what', 'he', 'described', 'as', 'the', 'worst', 'conditions', 'for', 'stock', 'markets', 'in', 'years', 'amp', 'half', 'year', 'profit', 'sank', 'per', 'cent', 'to', 'million', 'or', 'share', 'as', 'australia', 'largest', 'investor', 'and', 'fund', 'manager', 'failed', 'to', 'hit', 'projected', 'per', 'cent', 'earnings', 'growth', 'targets', 'and', 'was', 'battered', 'by', 'falling', 'returns', 'on', 'share', 'markets']]\n"
     ]
    }
   ],
   "source": [
    "print(test_corpus[:2])"
   ]
  },
  {
   "cell_type": "markdown",
   "metadata": {},
   "source": [
    "Notice that the testing corpus is just a list of lists and does not contain\n",
    "any tags.\n",
    "\n",
    "\n"
   ]
  },
  {
   "cell_type": "markdown",
   "metadata": {},
   "source": [
    "Training the Model\n",
    "------------------\n",
    "\n",
    "Now, we'll instantiate a Doc2Vec model with a vector size with 50 dimensions and\n",
    "iterating over the training corpus 40 times. We set the minimum word count to\n",
    "2 in order to discard words with very few occurrences. (Without a variety of\n",
    "representative examples, retaining such infrequent words can often make a\n",
    "model worse!) Typical iteration counts in the published `Paragraph Vector paper <https://cs.stanford.edu/~quocle/paragraph_vector.pdf>`__\n",
    "results, using 10s-of-thousands to millions of docs, are 10-20. More\n",
    "iterations take more time and eventually reach a point of diminishing\n",
    "returns.\n",
    "\n",
    "However, this is a very very small dataset (300 documents) with shortish\n",
    "documents (a few hundred words). Adding training passes can sometimes help\n",
    "with such small datasets.\n",
    "\n",
    "\n"
   ]
  },
  {
   "cell_type": "code",
   "execution_count": 16,
   "metadata": {},
   "outputs": [
    {
     "name": "stderr",
     "output_type": "stream",
     "text": [
      "2020-06-18 23:35:51,559 : WARNING : consider setting layer size to a multiple of 4 for greater performance\n"
     ]
    }
   ],
   "source": [
    "model = gensim.models.doc2vec.Doc2Vec(vector_size=50, min_count=2, epochs=40)"
   ]
  },
  {
   "cell_type": "markdown",
   "metadata": {},
   "source": [
    "Build a vocabulary\n",
    "\n"
   ]
  },
  {
   "cell_type": "code",
   "execution_count": 17,
   "metadata": {},
   "outputs": [
    {
     "name": "stderr",
     "output_type": "stream",
     "text": [
      "2020-06-18 23:36:00,239 : INFO : collecting all words and their counts\n",
      "2020-06-18 23:36:00,240 : INFO : PROGRESS: at example #0, processed 0 words (0/s), 0 word types, 0 tags\n",
      "2020-06-18 23:36:00,252 : INFO : collected 6981 word types and 300 unique tags from a corpus of 300 examples and 58152 words\n",
      "2020-06-18 23:36:00,253 : INFO : Loading a fresh vocabulary\n",
      "2020-06-18 23:36:00,263 : INFO : effective_min_count=2 retains 3955 unique words (56% of original 6981, drops 3026)\n",
      "2020-06-18 23:36:00,263 : INFO : effective_min_count=2 leaves 55126 word corpus (94% of original 58152, drops 3026)\n",
      "2020-06-18 23:36:00,280 : INFO : deleting the raw counts dictionary of 6981 items\n",
      "2020-06-18 23:36:00,281 : INFO : sample=0.001 downsamples 46 most-common words\n",
      "2020-06-18 23:36:00,282 : INFO : downsampling leaves estimated 42390 word corpus (76.9% of prior 55126)\n",
      "2020-06-18 23:36:00,304 : INFO : estimated required memory for 3955 words and 50 dimensions: 3619500 bytes\n",
      "2020-06-18 23:36:00,304 : INFO : resetting layer weights\n"
     ]
    }
   ],
   "source": [
    "model.build_vocab(train_corpus)"
   ]
  },
  {
   "cell_type": "markdown",
   "metadata": {},
   "source": [
    "Essentially, the vocabulary is a dictionary (accessible via\n",
    "``model.wv.vocab``\\ ) of all of the unique words extracted from the training\n",
    "corpus along with the count (e.g., ``model.wv.vocab['penalty'].count`` for\n",
    "counts for the word ``penalty``\\ ).\n",
    "\n",
    "\n"
   ]
  },
  {
   "cell_type": "markdown",
   "metadata": {},
   "source": [
    "Next, train the model on the corpus.\n",
    "If the BLAS library is being used, this should take no more than 3 seconds.\n",
    "If the BLAS library is not being used, this should take no more than 2\n",
    "minutes, so use BLAS if you value your time.\n",
    "\n",
    "\n"
   ]
  },
  {
   "cell_type": "code",
   "execution_count": 18,
   "metadata": {},
   "outputs": [
    {
     "name": "stderr",
     "output_type": "stream",
     "text": [
      "2020-06-18 23:36:07,800 : INFO : training model with 3 workers on 3955 vocabulary and 50 features, using sg=0 hs=0 sample=0.001 negative=5 window=5\n",
      "2020-06-18 23:36:08,049 : INFO : worker thread finished; awaiting finish of 2 more threads\n",
      "2020-06-18 23:36:08,050 : INFO : worker thread finished; awaiting finish of 1 more threads\n",
      "2020-06-18 23:36:08,051 : INFO : worker thread finished; awaiting finish of 0 more threads\n",
      "2020-06-18 23:36:08,052 : INFO : EPOCH - 1 : training on 58152 raw words (42677 effective words) took 0.2s, 171192 effective words/s\n",
      "2020-06-18 23:36:08,104 : INFO : worker thread finished; awaiting finish of 2 more threads\n",
      "2020-06-18 23:36:08,105 : INFO : worker thread finished; awaiting finish of 1 more threads\n",
      "2020-06-18 23:36:08,108 : INFO : worker thread finished; awaiting finish of 0 more threads\n",
      "2020-06-18 23:36:08,109 : INFO : EPOCH - 2 : training on 58152 raw words (42801 effective words) took 0.1s, 790255 effective words/s\n",
      "2020-06-18 23:36:08,157 : INFO : worker thread finished; awaiting finish of 2 more threads\n",
      "2020-06-18 23:36:08,161 : INFO : worker thread finished; awaiting finish of 1 more threads\n",
      "2020-06-18 23:36:08,163 : INFO : worker thread finished; awaiting finish of 0 more threads\n",
      "2020-06-18 23:36:08,164 : INFO : EPOCH - 3 : training on 58152 raw words (42708 effective words) took 0.1s, 821117 effective words/s\n",
      "2020-06-18 23:36:08,214 : INFO : worker thread finished; awaiting finish of 2 more threads\n",
      "2020-06-18 23:36:08,215 : INFO : worker thread finished; awaiting finish of 1 more threads\n",
      "2020-06-18 23:36:08,216 : INFO : worker thread finished; awaiting finish of 0 more threads\n",
      "2020-06-18 23:36:08,217 : INFO : EPOCH - 4 : training on 58152 raw words (42705 effective words) took 0.1s, 839732 effective words/s\n",
      "2020-06-18 23:36:08,261 : INFO : worker thread finished; awaiting finish of 2 more threads\n",
      "2020-06-18 23:36:08,263 : INFO : worker thread finished; awaiting finish of 1 more threads\n",
      "2020-06-18 23:36:08,265 : INFO : worker thread finished; awaiting finish of 0 more threads\n",
      "2020-06-18 23:36:08,265 : INFO : EPOCH - 5 : training on 58152 raw words (42731 effective words) took 0.0s, 917884 effective words/s\n",
      "2020-06-18 23:36:08,312 : INFO : worker thread finished; awaiting finish of 2 more threads\n",
      "2020-06-18 23:36:08,312 : INFO : worker thread finished; awaiting finish of 1 more threads\n",
      "2020-06-18 23:36:08,314 : INFO : worker thread finished; awaiting finish of 0 more threads\n",
      "2020-06-18 23:36:08,314 : INFO : EPOCH - 6 : training on 58152 raw words (42627 effective words) took 0.0s, 912440 effective words/s\n",
      "2020-06-18 23:36:08,357 : INFO : worker thread finished; awaiting finish of 2 more threads\n",
      "2020-06-18 23:36:08,359 : INFO : worker thread finished; awaiting finish of 1 more threads\n",
      "2020-06-18 23:36:08,360 : INFO : worker thread finished; awaiting finish of 0 more threads\n",
      "2020-06-18 23:36:08,360 : INFO : EPOCH - 7 : training on 58152 raw words (42668 effective words) took 0.0s, 982036 effective words/s\n",
      "2020-06-18 23:36:08,404 : INFO : worker thread finished; awaiting finish of 2 more threads\n",
      "2020-06-18 23:36:08,405 : INFO : worker thread finished; awaiting finish of 1 more threads\n",
      "2020-06-18 23:36:08,406 : INFO : worker thread finished; awaiting finish of 0 more threads\n",
      "2020-06-18 23:36:08,407 : INFO : EPOCH - 8 : training on 58152 raw words (42868 effective words) took 0.0s, 958720 effective words/s\n",
      "2020-06-18 23:36:08,450 : INFO : worker thread finished; awaiting finish of 2 more threads\n",
      "2020-06-18 23:36:08,453 : INFO : worker thread finished; awaiting finish of 1 more threads\n",
      "2020-06-18 23:36:08,455 : INFO : worker thread finished; awaiting finish of 0 more threads\n",
      "2020-06-18 23:36:08,455 : INFO : EPOCH - 9 : training on 58152 raw words (42757 effective words) took 0.0s, 914772 effective words/s\n",
      "2020-06-18 23:36:08,498 : INFO : worker thread finished; awaiting finish of 2 more threads\n",
      "2020-06-18 23:36:08,500 : INFO : worker thread finished; awaiting finish of 1 more threads\n",
      "2020-06-18 23:36:08,502 : INFO : worker thread finished; awaiting finish of 0 more threads\n",
      "2020-06-18 23:36:08,503 : INFO : EPOCH - 10 : training on 58152 raw words (42686 effective words) took 0.0s, 950235 effective words/s\n",
      "2020-06-18 23:36:08,546 : INFO : worker thread finished; awaiting finish of 2 more threads\n",
      "2020-06-18 23:36:08,548 : INFO : worker thread finished; awaiting finish of 1 more threads\n",
      "2020-06-18 23:36:08,550 : INFO : worker thread finished; awaiting finish of 0 more threads\n",
      "2020-06-18 23:36:08,550 : INFO : EPOCH - 11 : training on 58152 raw words (42646 effective words) took 0.0s, 946486 effective words/s\n",
      "2020-06-18 23:36:08,593 : INFO : worker thread finished; awaiting finish of 2 more threads\n",
      "2020-06-18 23:36:08,595 : INFO : worker thread finished; awaiting finish of 1 more threads\n",
      "2020-06-18 23:36:08,596 : INFO : worker thread finished; awaiting finish of 0 more threads\n",
      "2020-06-18 23:36:08,597 : INFO : EPOCH - 12 : training on 58152 raw words (42759 effective words) took 0.0s, 954338 effective words/s\n",
      "2020-06-18 23:36:08,638 : INFO : worker thread finished; awaiting finish of 2 more threads\n",
      "2020-06-18 23:36:08,642 : INFO : worker thread finished; awaiting finish of 1 more threads\n",
      "2020-06-18 23:36:08,643 : INFO : worker thread finished; awaiting finish of 0 more threads\n",
      "2020-06-18 23:36:08,643 : INFO : EPOCH - 13 : training on 58152 raw words (42750 effective words) took 0.0s, 953713 effective words/s\n",
      "2020-06-18 23:36:08,687 : INFO : worker thread finished; awaiting finish of 2 more threads\n",
      "2020-06-18 23:36:08,690 : INFO : worker thread finished; awaiting finish of 1 more threads\n",
      "2020-06-18 23:36:08,691 : INFO : worker thread finished; awaiting finish of 0 more threads\n",
      "2020-06-18 23:36:08,691 : INFO : EPOCH - 14 : training on 58152 raw words (42678 effective words) took 0.0s, 936576 effective words/s\n",
      "2020-06-18 23:36:08,736 : INFO : worker thread finished; awaiting finish of 2 more threads\n",
      "2020-06-18 23:36:08,738 : INFO : worker thread finished; awaiting finish of 1 more threads\n",
      "2020-06-18 23:36:08,739 : INFO : worker thread finished; awaiting finish of 0 more threads\n",
      "2020-06-18 23:36:08,739 : INFO : EPOCH - 15 : training on 58152 raw words (42662 effective words) took 0.0s, 938784 effective words/s\n",
      "2020-06-18 23:36:08,783 : INFO : worker thread finished; awaiting finish of 2 more threads\n",
      "2020-06-18 23:36:08,785 : INFO : worker thread finished; awaiting finish of 1 more threads\n",
      "2020-06-18 23:36:08,786 : INFO : worker thread finished; awaiting finish of 0 more threads\n",
      "2020-06-18 23:36:08,786 : INFO : EPOCH - 16 : training on 58152 raw words (42603 effective words) took 0.0s, 948320 effective words/s\n",
      "2020-06-18 23:36:08,831 : INFO : worker thread finished; awaiting finish of 2 more threads\n",
      "2020-06-18 23:36:08,833 : INFO : worker thread finished; awaiting finish of 1 more threads\n",
      "2020-06-18 23:36:08,834 : INFO : worker thread finished; awaiting finish of 0 more threads\n",
      "2020-06-18 23:36:08,834 : INFO : EPOCH - 17 : training on 58152 raw words (42786 effective words) took 0.0s, 915886 effective words/s\n",
      "2020-06-18 23:36:08,879 : INFO : worker thread finished; awaiting finish of 2 more threads\n",
      "2020-06-18 23:36:08,881 : INFO : worker thread finished; awaiting finish of 1 more threads\n",
      "2020-06-18 23:36:08,882 : INFO : worker thread finished; awaiting finish of 0 more threads\n",
      "2020-06-18 23:36:08,882 : INFO : EPOCH - 18 : training on 58152 raw words (42680 effective words) took 0.0s, 943332 effective words/s\n",
      "2020-06-18 23:36:08,928 : INFO : worker thread finished; awaiting finish of 2 more threads\n",
      "2020-06-18 23:36:08,930 : INFO : worker thread finished; awaiting finish of 1 more threads\n",
      "2020-06-18 23:36:08,930 : INFO : worker thread finished; awaiting finish of 0 more threads\n",
      "2020-06-18 23:36:08,930 : INFO : EPOCH - 19 : training on 58152 raw words (42647 effective words) took 0.0s, 932344 effective words/s\n",
      "2020-06-18 23:36:08,972 : INFO : worker thread finished; awaiting finish of 2 more threads\n",
      "2020-06-18 23:36:08,976 : INFO : worker thread finished; awaiting finish of 1 more threads\n",
      "2020-06-18 23:36:08,977 : INFO : worker thread finished; awaiting finish of 0 more threads\n",
      "2020-06-18 23:36:08,978 : INFO : EPOCH - 20 : training on 58152 raw words (42604 effective words) took 0.0s, 934718 effective words/s\n"
     ]
    },
    {
     "name": "stderr",
     "output_type": "stream",
     "text": [
      "2020-06-18 23:36:09,024 : INFO : worker thread finished; awaiting finish of 2 more threads\n",
      "2020-06-18 23:36:09,026 : INFO : worker thread finished; awaiting finish of 1 more threads\n",
      "2020-06-18 23:36:09,027 : INFO : worker thread finished; awaiting finish of 0 more threads\n",
      "2020-06-18 23:36:09,027 : INFO : EPOCH - 21 : training on 58152 raw words (42676 effective words) took 0.0s, 894653 effective words/s\n",
      "2020-06-18 23:36:09,073 : INFO : worker thread finished; awaiting finish of 2 more threads\n",
      "2020-06-18 23:36:09,074 : INFO : worker thread finished; awaiting finish of 1 more threads\n",
      "2020-06-18 23:36:09,077 : INFO : worker thread finished; awaiting finish of 0 more threads\n",
      "2020-06-18 23:36:09,077 : INFO : EPOCH - 22 : training on 58152 raw words (42648 effective words) took 0.0s, 899231 effective words/s\n",
      "2020-06-18 23:36:09,125 : INFO : worker thread finished; awaiting finish of 2 more threads\n",
      "2020-06-18 23:36:09,126 : INFO : worker thread finished; awaiting finish of 1 more threads\n",
      "2020-06-18 23:36:09,126 : INFO : worker thread finished; awaiting finish of 0 more threads\n",
      "2020-06-18 23:36:09,127 : INFO : EPOCH - 23 : training on 58152 raw words (42701 effective words) took 0.0s, 907792 effective words/s\n",
      "2020-06-18 23:36:09,197 : INFO : worker thread finished; awaiting finish of 2 more threads\n",
      "2020-06-18 23:36:09,199 : INFO : worker thread finished; awaiting finish of 1 more threads\n",
      "2020-06-18 23:36:09,199 : INFO : worker thread finished; awaiting finish of 0 more threads\n",
      "2020-06-18 23:36:09,200 : INFO : EPOCH - 24 : training on 58152 raw words (42704 effective words) took 0.1s, 601644 effective words/s\n",
      "2020-06-18 23:36:09,275 : INFO : worker thread finished; awaiting finish of 2 more threads\n",
      "2020-06-18 23:36:09,280 : INFO : worker thread finished; awaiting finish of 1 more threads\n",
      "2020-06-18 23:36:09,281 : INFO : worker thread finished; awaiting finish of 0 more threads\n",
      "2020-06-18 23:36:09,282 : INFO : EPOCH - 25 : training on 58152 raw words (42740 effective words) took 0.1s, 535124 effective words/s\n",
      "2020-06-18 23:36:09,368 : INFO : worker thread finished; awaiting finish of 2 more threads\n",
      "2020-06-18 23:36:09,372 : INFO : worker thread finished; awaiting finish of 1 more threads\n",
      "2020-06-18 23:36:09,372 : INFO : worker thread finished; awaiting finish of 0 more threads\n",
      "2020-06-18 23:36:09,373 : INFO : EPOCH - 26 : training on 58152 raw words (42678 effective words) took 0.1s, 496676 effective words/s\n",
      "2020-06-18 23:36:09,433 : INFO : worker thread finished; awaiting finish of 2 more threads\n",
      "2020-06-18 23:36:09,434 : INFO : worker thread finished; awaiting finish of 1 more threads\n",
      "2020-06-18 23:36:09,435 : INFO : worker thread finished; awaiting finish of 0 more threads\n",
      "2020-06-18 23:36:09,435 : INFO : EPOCH - 27 : training on 58152 raw words (42687 effective words) took 0.1s, 721511 effective words/s\n",
      "2020-06-18 23:36:09,484 : INFO : worker thread finished; awaiting finish of 2 more threads\n",
      "2020-06-18 23:36:09,485 : INFO : worker thread finished; awaiting finish of 1 more threads\n",
      "2020-06-18 23:36:09,486 : INFO : worker thread finished; awaiting finish of 0 more threads\n",
      "2020-06-18 23:36:09,486 : INFO : EPOCH - 28 : training on 58152 raw words (42645 effective words) took 0.0s, 878728 effective words/s\n",
      "2020-06-18 23:36:09,531 : INFO : worker thread finished; awaiting finish of 2 more threads\n",
      "2020-06-18 23:36:09,534 : INFO : worker thread finished; awaiting finish of 1 more threads\n",
      "2020-06-18 23:36:09,535 : INFO : worker thread finished; awaiting finish of 0 more threads\n",
      "2020-06-18 23:36:09,536 : INFO : EPOCH - 29 : training on 58152 raw words (42684 effective words) took 0.0s, 903248 effective words/s\n",
      "2020-06-18 23:36:09,582 : INFO : worker thread finished; awaiting finish of 2 more threads\n",
      "2020-06-18 23:36:09,583 : INFO : worker thread finished; awaiting finish of 1 more threads\n",
      "2020-06-18 23:36:09,584 : INFO : worker thread finished; awaiting finish of 0 more threads\n",
      "2020-06-18 23:36:09,585 : INFO : EPOCH - 30 : training on 58152 raw words (42800 effective words) took 0.0s, 912524 effective words/s\n",
      "2020-06-18 23:36:09,633 : INFO : worker thread finished; awaiting finish of 2 more threads\n",
      "2020-06-18 23:36:09,634 : INFO : worker thread finished; awaiting finish of 1 more threads\n",
      "2020-06-18 23:36:09,634 : INFO : worker thread finished; awaiting finish of 0 more threads\n",
      "2020-06-18 23:36:09,635 : INFO : EPOCH - 31 : training on 58152 raw words (42645 effective words) took 0.0s, 894794 effective words/s\n",
      "2020-06-18 23:36:09,682 : INFO : worker thread finished; awaiting finish of 2 more threads\n",
      "2020-06-18 23:36:09,684 : INFO : worker thread finished; awaiting finish of 1 more threads\n",
      "2020-06-18 23:36:09,685 : INFO : worker thread finished; awaiting finish of 0 more threads\n",
      "2020-06-18 23:36:09,685 : INFO : EPOCH - 32 : training on 58152 raw words (42582 effective words) took 0.0s, 882207 effective words/s\n",
      "2020-06-18 23:36:09,732 : INFO : worker thread finished; awaiting finish of 2 more threads\n",
      "2020-06-18 23:36:09,733 : INFO : worker thread finished; awaiting finish of 1 more threads\n",
      "2020-06-18 23:36:09,735 : INFO : worker thread finished; awaiting finish of 0 more threads\n",
      "2020-06-18 23:36:09,735 : INFO : EPOCH - 33 : training on 58152 raw words (42697 effective words) took 0.0s, 902363 effective words/s\n",
      "2020-06-18 23:36:09,783 : INFO : worker thread finished; awaiting finish of 2 more threads\n",
      "2020-06-18 23:36:09,785 : INFO : worker thread finished; awaiting finish of 1 more threads\n",
      "2020-06-18 23:36:09,786 : INFO : worker thread finished; awaiting finish of 0 more threads\n",
      "2020-06-18 23:36:09,786 : INFO : EPOCH - 34 : training on 58152 raw words (42617 effective words) took 0.0s, 881925 effective words/s\n",
      "2020-06-18 23:36:09,832 : INFO : worker thread finished; awaiting finish of 2 more threads\n",
      "2020-06-18 23:36:09,833 : INFO : worker thread finished; awaiting finish of 1 more threads\n",
      "2020-06-18 23:36:09,834 : INFO : worker thread finished; awaiting finish of 0 more threads\n",
      "2020-06-18 23:36:09,834 : INFO : EPOCH - 35 : training on 58152 raw words (42683 effective words) took 0.0s, 931589 effective words/s\n",
      "2020-06-18 23:36:09,880 : INFO : worker thread finished; awaiting finish of 2 more threads\n",
      "2020-06-18 23:36:09,884 : INFO : worker thread finished; awaiting finish of 1 more threads\n",
      "2020-06-18 23:36:09,886 : INFO : worker thread finished; awaiting finish of 0 more threads\n",
      "2020-06-18 23:36:09,886 : INFO : EPOCH - 36 : training on 58152 raw words (42638 effective words) took 0.0s, 853434 effective words/s\n",
      "2020-06-18 23:36:09,930 : INFO : worker thread finished; awaiting finish of 2 more threads\n",
      "2020-06-18 23:36:09,933 : INFO : worker thread finished; awaiting finish of 1 more threads\n",
      "2020-06-18 23:36:09,934 : INFO : worker thread finished; awaiting finish of 0 more threads\n",
      "2020-06-18 23:36:09,935 : INFO : EPOCH - 37 : training on 58152 raw words (42635 effective words) took 0.0s, 901092 effective words/s\n",
      "2020-06-18 23:36:09,981 : INFO : worker thread finished; awaiting finish of 2 more threads\n",
      "2020-06-18 23:36:09,984 : INFO : worker thread finished; awaiting finish of 1 more threads\n",
      "2020-06-18 23:36:09,985 : INFO : worker thread finished; awaiting finish of 0 more threads\n",
      "2020-06-18 23:36:09,986 : INFO : EPOCH - 38 : training on 58152 raw words (42554 effective words) took 0.0s, 877095 effective words/s\n",
      "2020-06-18 23:36:10,031 : INFO : worker thread finished; awaiting finish of 2 more threads\n",
      "2020-06-18 23:36:10,034 : INFO : worker thread finished; awaiting finish of 1 more threads\n",
      "2020-06-18 23:36:10,035 : INFO : worker thread finished; awaiting finish of 0 more threads\n",
      "2020-06-18 23:36:10,036 : INFO : EPOCH - 39 : training on 58152 raw words (42688 effective words) took 0.0s, 901469 effective words/s\n",
      "2020-06-18 23:36:10,082 : INFO : worker thread finished; awaiting finish of 2 more threads\n",
      "2020-06-18 23:36:10,085 : INFO : worker thread finished; awaiting finish of 1 more threads\n",
      "2020-06-18 23:36:10,086 : INFO : worker thread finished; awaiting finish of 0 more threads\n",
      "2020-06-18 23:36:10,087 : INFO : EPOCH - 40 : training on 58152 raw words (42696 effective words) took 0.0s, 869335 effective words/s\n",
      "2020-06-18 23:36:10,088 : INFO : training on a 2326080 raw words (1707441 effective words) took 2.3s, 746530 effective words/s\n"
     ]
    }
   ],
   "source": [
    "model.train(train_corpus, total_examples=model.corpus_count, epochs=model.epochs)"
   ]
  },
  {
   "cell_type": "markdown",
   "metadata": {},
   "source": [
    "Now, we can use the trained model to infer a vector for any piece of text\n",
    "by passing a list of words to the ``model.infer_vector`` function. This\n",
    "vector can then be compared with other vectors via cosine similarity.\n",
    "\n",
    "\n"
   ]
  },
  {
   "cell_type": "code",
   "execution_count": 19,
   "metadata": {},
   "outputs": [
    {
     "name": "stdout",
     "output_type": "stream",
     "text": [
      "[ 0.2280737  -0.00345196  0.06898879 -0.25916985 -0.20148934  0.02698889\n",
      " -0.14661543 -0.34239724  0.054002   -0.2057447   0.01507833 -0.22103322\n",
      " -0.13503999 -0.08618273  0.1686219  -0.19175497  0.10447902 -0.14423819\n",
      " -0.18678749 -0.05316087 -0.00763229 -0.04512306  0.03745174 -0.07690292\n",
      " -0.1193919   0.10160755  0.10827949 -0.24808991 -0.15374191  0.00522556\n",
      " -0.273051   -0.02437152  0.1162398   0.20203795  0.10552217 -0.00964377\n",
      " -0.15304522 -0.06739344  0.05491762  0.0508731   0.17084734  0.00067503\n",
      " -0.01581495 -0.06467886  0.09696685  0.19421613 -0.12911862 -0.01744863\n",
      " -0.02464771 -0.12908964]\n"
     ]
    }
   ],
   "source": [
    "vector = model.infer_vector(['only', 'you', 'can', 'prevent', 'forest', 'fires'])\n",
    "print(vector)"
   ]
  },
  {
   "cell_type": "markdown",
   "metadata": {},
   "source": [
    "Note that ``infer_vector()`` does *not* take a string, but rather a list of\n",
    "string tokens, which should have already been tokenized the same way as the\n",
    "``words`` property of original training document objects.\n",
    "\n",
    "Also note that because the underlying training/inference algorithms are an\n",
    "iterative approximation problem that makes use of internal randomization,\n",
    "repeated inferences of the same text will return slightly different vectors.\n",
    "\n",
    "\n"
   ]
  },
  {
   "cell_type": "markdown",
   "metadata": {},
   "source": [
    "Assessing the Model\n",
    "-------------------\n",
    "\n",
    "To assess our new model, we'll first infer new vectors for each document of\n",
    "the training corpus, compare the inferred vectors with the training corpus,\n",
    "and then returning the rank of the document based on self-similarity.\n",
    "Basically, we're pretending as if the training corpus is some new unseen data\n",
    "and then seeing how they compare with the trained model. The expectation is\n",
    "that we've likely overfit our model (i.e., all of the ranks will be less than\n",
    "2) and so we should be able to find similar documents very easily.\n",
    "Additionally, we'll keep track of the second ranks for a comparison of less\n",
    "similar documents.\n",
    "\n",
    "\n"
   ]
  },
  {
   "cell_type": "code",
   "execution_count": 20,
   "metadata": {},
   "outputs": [
    {
     "name": "stderr",
     "output_type": "stream",
     "text": [
      "2020-06-18 23:36:34,606 : INFO : precomputing L2-norms of doc weight vectors\n"
     ]
    }
   ],
   "source": [
    "ranks = []\n",
    "second_ranks = []\n",
    "for doc_id in range(len(train_corpus)):\n",
    "    inferred_vector = model.infer_vector(train_corpus[doc_id].words)\n",
    "    sims = model.docvecs.most_similar([inferred_vector], topn=len(model.docvecs))\n",
    "    rank = [docid for docid, sim in sims].index(doc_id)\n",
    "    ranks.append(rank)\n",
    "\n",
    "    second_ranks.append(sims[1])"
   ]
  },
  {
   "cell_type": "markdown",
   "metadata": {},
   "source": [
    "Let's count how each document ranks with respect to the training corpus\n",
    "\n",
    "NB. Results vary between runs due to random seeding and very small corpus\n",
    "\n"
   ]
  },
  {
   "cell_type": "code",
   "execution_count": 21,
   "metadata": {},
   "outputs": [
    {
     "name": "stdout",
     "output_type": "stream",
     "text": [
      "Counter({0: 291, 1: 9})\n"
     ]
    }
   ],
   "source": [
    "import collections\n",
    "\n",
    "counter = collections.Counter(ranks)\n",
    "print(counter)"
   ]
  },
  {
   "cell_type": "markdown",
   "metadata": {},
   "source": [
    "Basically, greater than 95% of the inferred documents are found to be most\n",
    "similar to itself and about 5% of the time it is mistakenly most similar to\n",
    "another document. Checking the inferred-vector against a\n",
    "training-vector is a sort of 'sanity check' as to whether the model is\n",
    "behaving in a usefully consistent manner, though not a real 'accuracy' value.\n",
    "\n",
    "This is great and not entirely surprising. We can take a look at an example:\n",
    "\n",
    "\n"
   ]
  },
  {
   "cell_type": "code",
   "execution_count": 22,
   "metadata": {},
   "outputs": [
    {
     "name": "stdout",
     "output_type": "stream",
     "text": [
      "Document (299): «australia will take on france in the doubles rubber of the davis cup tennis final today with the tie levelled at wayne arthurs and todd woodbridge are scheduled to lead australia in the doubles against cedric pioline and fabrice santoro however changes can be made to the line up up to an hour before the match and australian team captain john fitzgerald suggested he might do just that we ll make team appraisal of the whole situation go over the pros and cons and make decision french team captain guy forget says he will not make changes but does not know what to expect from australia todd is the best doubles player in the world right now so expect him to play he said would probably use wayne arthurs but don know what to expect really pat rafter salvaged australia davis cup campaign yesterday with win in the second singles match rafter overcame an arm injury to defeat french number one sebastien grosjean in three sets the australian says he is happy with his form it not very pretty tennis there isn too many consistent bounces you are playing like said bit of classic old grass court rafter said rafter levelled the score after lleyton hewitt shock five set loss to nicholas escude in the first singles rubber but rafter says he felt no added pressure after hewitt defeat knew had good team to back me up even if we were down he said knew could win on the last day know the boys can win doubles so even if we were down still feel we are good enough team to win and vice versa they are good enough team to beat us as well»\n",
      "\n",
      "SIMILAR/DISSIMILAR DOCS PER MODEL Doc2Vec(dm/m,d50,n5,w5,mc2,s0.001,t3):\n",
      "\n",
      "MOST (299, 0.9346608519554138): «australia will take on france in the doubles rubber of the davis cup tennis final today with the tie levelled at wayne arthurs and todd woodbridge are scheduled to lead australia in the doubles against cedric pioline and fabrice santoro however changes can be made to the line up up to an hour before the match and australian team captain john fitzgerald suggested he might do just that we ll make team appraisal of the whole situation go over the pros and cons and make decision french team captain guy forget says he will not make changes but does not know what to expect from australia todd is the best doubles player in the world right now so expect him to play he said would probably use wayne arthurs but don know what to expect really pat rafter salvaged australia davis cup campaign yesterday with win in the second singles match rafter overcame an arm injury to defeat french number one sebastien grosjean in three sets the australian says he is happy with his form it not very pretty tennis there isn too many consistent bounces you are playing like said bit of classic old grass court rafter said rafter levelled the score after lleyton hewitt shock five set loss to nicholas escude in the first singles rubber but rafter says he felt no added pressure after hewitt defeat knew had good team to back me up even if we were down he said knew could win on the last day know the boys can win doubles so even if we were down still feel we are good enough team to win and vice versa they are good enough team to beat us as well»\n",
      "\n",
      "SECOND-MOST (104, 0.805507242679596): «australian cricket captain steve waugh has supported fast bowler brett lee after criticism of his intimidatory bowling to the south african tailenders in the first test in adelaide earlier this month lee was fined for giving new zealand tailender shane bond an unsportsmanlike send off during the third test in perth waugh says tailenders should not be protected from short pitched bowling these days you re earning big money you ve got responsibility to learn how to bat he said mean there no times like years ago when it was not professional and sort of bowlers code these days you re professional our batsmen work very hard at their batting and expect other tailenders to do likewise meanwhile waugh says his side will need to guard against complacency after convincingly winning the first test by runs waugh says despite the dominance of his side in the first test south africa can never be taken lightly it only one test match out of three or six whichever way you want to look at it so there lot of work to go he said but it nice to win the first battle definitely it gives us lot of confidence going into melbourne you know the big crowd there we love playing in front of the boxing day crowd so that will be to our advantage as well south africa begins four day match against new south wales in sydney on thursday in the lead up to the boxing day test veteran fast bowler allan donald will play in the warm up match and is likely to take his place in the team for the second test south african captain shaun pollock expects much better performance from his side in the melbourne test we still believe that we didn play to our full potential so if we can improve on our aspects the output we put out on the field will be lot better and we still believe we have side that is good enough to beat australia on our day he said»\n",
      "\n",
      "MEDIAN (187, 0.27998363971710205): «qantas maintenance workers will decide by secret ballot whether to accept the airline offer of an incentive payment from company profits unions will advise members to reject the offer because it includes wage freeze qantas management and unions have been locked in negotiations for two days over the proposed to month wage freeze unions say the workers deserve pay rise while qantas maintains it cannot afford it because of the global downturn in the airline industry the results of the secret ballot will be put before the industrial relations commission next monday failure to resolve the issue could result in industrial action over the christmas holidays»\n",
      "\n",
      "LEAST (233, -0.109908327460289): «three us troops and five members of the afghan opposition were killed by stray us bomb near kandahar in afghanistan the pentagon said the pentagon had earlier confirmed that two us special forces soldiers were killed and others wounded north of kandahar when bomber dropped pound bomb too close to them the was flying in support of opposition forces north of kandahar said pentagon spokeswoman victori clark we have an update since this morning and unfortunately the number of us forces killed is now three rival afghan factions signed an historic power sharing agreement to form post taliban government and set the country on the road to recovery and democracy after two decades of war the accord was sealed after nine days of exhausting negotiations and paves the way for six month interim administration headed by moderate muslim hamid karzai from the dominant pashtun ethnic group the deal gives the northern alliance control of three key portfolios in the member cabinet which includes two women and is due to be up and running by december it also gives symbolic role to the former king and provides for un security force for kabul the agreement was signed in the german city of bonn by the leaders of the four delegations and un special envoy for afghanistan lakhdar brahimi to applause from an audience which included german chancellor gerhard schroeder we were the champions of resistance and will be proud to be the champions of peace said yunus qanooni the northern alliance chief negotiator and the interim government interior minister delegate from the so called peshawar group sayed hamed gailani summed up the atmosphere in single phrase there are two things evident today yesterday rain does not have the courage to cry and the sun cannot hide its smile he said the appointment of karzai year old tribal pashtun tribal leader currently fighting the taliban near their last stronghold of kandahar was seen as an attempt to balance afghanistan delicate ethnic mix it cements whirlwind transformation in afghanistan fate since the september attacks on new york and washington the trigger for massive us air strikes that have dislodged the taliban militia from most of the country and put the northern alliance back on top showing the strain from nine days of frantic diplomacy brahimi recognised the accord was far from perfect and that its signatories were not fully representative of the afghan people»\n",
      "\n"
     ]
    }
   ],
   "source": [
    "print('Document ({}): «{}»\\n'.format(doc_id, ' '.join(train_corpus[doc_id].words)))\n",
    "print(u'SIMILAR/DISSIMILAR DOCS PER MODEL %s:\\n' % model)\n",
    "for label, index in [('MOST', 0), ('SECOND-MOST', 1), ('MEDIAN', len(sims)//2), ('LEAST', len(sims) - 1)]:\n",
    "    print(u'%s %s: «%s»\\n' % (label, sims[index], ' '.join(train_corpus[sims[index][0]].words)))"
   ]
  },
  {
   "cell_type": "markdown",
   "metadata": {},
   "source": [
    "Notice above that the most similar document (usually the same text) is has a\n",
    "similarity score approaching 1.0. However, the similarity score for the\n",
    "second-ranked documents should be significantly lower (assuming the documents\n",
    "are in fact different) and the reasoning becomes obvious when we examine the\n",
    "text itself.\n",
    "\n",
    "We can run the next cell repeatedly to see a sampling other target-document\n",
    "comparisons.\n",
    "\n",
    "\n"
   ]
  },
  {
   "cell_type": "code",
   "execution_count": 33,
   "metadata": {},
   "outputs": [
    {
     "name": "stdout",
     "output_type": "stream",
     "text": [
      "Train Document (272): «the storm clean up in sydney will resume in earnest this morning as fresh crews are brought in to replace state emergency service ses personnel who worked through the night the storm hit sydney early yesterday afternoon and two schoolgirls died when tree fell on them at reserve at hornsby heights in the city north number of other people were injured as the storm brought down trees and power poles and lifted roofs new south wales emergency services minister bob debus says welfare and emergency funding arrangements have been put in place with the declaration of natural disaster areas in campbeltown hornsby warringah and kurringai welfare services become available if they are needed local government is refunded any money it spends on the clean up or that it spends on repairing its own infrastructure low interest loans if they are needed are available to small business to help them get back on their feet again mr debus said energy australia says power has been restored to customers and work will continue today to reconnect those still without electricity energy australia peter leete says work will concentrate around the worst hit areas the worst of the problems we have still got are in sydney northern suburbs which seem to be the worst hit of all and that around hornsby st ives turramurra and frenches forest mr leete said four hundred ses volunteers are responding to more than calls for assistance the volunteers have worked throughout the night to remove trees from homes and roads the ses laura goodin says it will take several days before the damage is cleared up while the ses has received fewer calls for help than in the storm two weeks ago many of the jobs in this storm are actually quite complicated involving large trees or extensively damaged homes and businesses we re estimating that most of the tasks will be completed by friday if no new storms develop ms goodin said outside sydney the storms caused damage in north east of the state and the lower hunter scores of homes and farm buildings have been damaged and literally hundreds of trees have been brought down the storms accompanied by gale force winds and hail left large areas around tamworth gunnedah and quirindi without electricity and telephone services»\n",
      "\n",
      "Similar Document (255, 0.8753898739814758): «the new south wales state emergency service ses says it has now received calls for help in the wake of monday fierce storms natural disaster areas have been declared throughout sydney and surrounding areas and parts of the state north west in sydney more than homes mainly in the northern suburbs remain without power ses spokeswoman laura goodin says several hundred volunteers will be back in the field this morning we ve had about calls for help of which we ve completed about two thirds we ve had about volunteers in the field being helped out by the royal fire service and the new south wales fire brigades and we re expecting to have most jobs completed by about friday ms goodin said the extensive storm damage has prompted warning about people falsely claiming to work for the ses the warning from fair trading minister john aquilina follows reports from the suburb of hornsby that people claiming to work for the ses are asking for payment from the storm victims mr aquilina has reminded householders that the ses is volunteer organisation and does not charge for its work or employ sub contractors he has suggested residents contact the police if they are approached by such people the government is also warning householders against dealing with unlicensed tradespeople»\n",
      "\n"
     ]
    }
   ],
   "source": [
    "# Pick a random document from the corpus and infer a vector from the model\n",
    "import random\n",
    "doc_id = random.randint(0, len(train_corpus) - 1)\n",
    "\n",
    "# Compare and print the second-most-similar document\n",
    "print('Train Document ({}): «{}»\\n'.format(doc_id, ' '.join(train_corpus[doc_id].words)))\n",
    "sim_id = second_ranks[doc_id]\n",
    "print('Similar Document {}: «{}»\\n'.format(sim_id, ' '.join(train_corpus[sim_id[0]].words)))"
   ]
  },
  {
   "cell_type": "markdown",
   "metadata": {},
   "source": [
    "Testing the Model\n",
    "-----------------\n",
    "\n",
    "Using the same approach above, we'll infer the vector for a randomly chosen\n",
    "test document, and compare the document to our model by eye.\n",
    "\n",
    "\n"
   ]
  },
  {
   "cell_type": "code",
   "execution_count": null,
   "metadata": {},
   "outputs": [],
   "source": [
    "# Pick a random document from the test corpus and infer a vector from the model\n",
    "doc_id = random.randint(0, len(test_corpus) - 1)\n",
    "inferred_vector = model.infer_vector(test_corpus[doc_id])\n",
    "sims = model.docvecs.most_similar([inferred_vector], topn=len(model.docvecs))\n",
    "\n",
    "# Compare and print the most/median/least similar documents from the train corpus\n",
    "print('Test Document ({}): «{}»\\n'.format(doc_id, ' '.join(test_corpus[doc_id])))\n",
    "print(u'SIMILAR/DISSIMILAR DOCS PER MODEL %s:\\n' % model)\n",
    "for label, index in [('MOST', 0), ('MEDIAN', len(sims)//2), ('LEAST', len(sims) - 1)]:\n",
    "    print(u'%s %s: «%s»\\n' % (label, sims[index], ' '.join(train_corpus[sims[index][0]].words)))"
   ]
  },
  {
   "cell_type": "markdown",
   "metadata": {},
   "source": [
    "Conclusion\n",
    "----------\n",
    "\n",
    "Let's review what we've seen in this tutorial:\n",
    "\n",
    "0. Review the relevant models: bag-of-words, Word2Vec, Doc2Vec\n",
    "1. Load and preprocess the training and test corpora (see `core_concepts_corpus`)\n",
    "2. Train a Doc2Vec `core_concepts_model` model using the training corpus\n",
    "3. Demonstrate how the trained model can be used to infer a `core_concepts_vector`\n",
    "4. Assess the model\n",
    "5. Test the model on the test corpus\n",
    "\n",
    "That's it! Doc2Vec is a great way to explore relationships between documents.\n",
    "\n",
    "Additional Resources\n",
    "--------------------\n",
    "\n",
    "If you'd like to know more about the subject matter of this tutorial, check out the links below.\n",
    "\n",
    "* `Word2Vec Paper <https://papers.nips.cc/paper/5021-distributed-representations-of-words-and-phrases-and-their-compositionality.pdf>`_\n",
    "* `Doc2Vec Paper <https://cs.stanford.edu/~quocle/paragraph_vector.pdf>`_\n",
    "* `Dr. Michael D. Lee's Website <http://faculty.sites.uci.edu/mdlee>`_\n",
    "* `Lee Corpus <http://faculty.sites.uci.edu/mdlee/similarity-data/>`__\n",
    "* `IMDB Doc2Vec Tutorial <doc2vec-IMDB.ipynb>`_\n",
    "\n",
    "\n"
   ]
  }
 ],
 "metadata": {
  "kernelspec": {
   "display_name": "Python 3",
   "language": "python",
   "name": "python3"
  },
  "language_info": {
   "codemirror_mode": {
    "name": "ipython",
    "version": 3
   },
   "file_extension": ".py",
   "mimetype": "text/x-python",
   "name": "python",
   "nbconvert_exporter": "python",
   "pygments_lexer": "ipython3",
   "version": "3.6.5"
  }
 },
 "nbformat": 4,
 "nbformat_minor": 1
}
