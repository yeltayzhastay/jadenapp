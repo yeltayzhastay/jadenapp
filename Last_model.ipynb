{
 "cells": [
  {
   "cell_type": "code",
   "execution_count": 1,
   "metadata": {},
   "outputs": [],
   "source": [
    "import pandas as pd\n",
    "import numpy as np\n",
    "\n",
    "import pickle\n",
    "from sklearn.metrics.pairwise import linear_kernel\n",
    "from sklearn.feature_extraction.text import TfidfVectorizer\n",
    "\n",
    "import csv"
   ]
  },
  {
   "cell_type": "code",
   "execution_count": 76,
   "metadata": {},
   "outputs": [],
   "source": [
    "class Jaden:\n",
    "    _model = None\n",
    "    _vector = None\n",
    "    _vocabulary = None\n",
    "    _unique_stemmed_words = None\n",
    "    \n",
    "    def __init__(self):\n",
    "        self._model = pickle.load(open('finishjadenapp/_model.sav', 'rb'))\n",
    "        self._vector = pickle.load(open('finishjadenapp/_vectorized.sav', 'rb'))\n",
    "        with open('finishjadenapp/_tarih.csv', newline='', encoding='utf8') as f:\n",
    "            reader = csv.reader(f)\n",
    "            _vocabulary = list(reader)\n",
    "        self._vocabulary = _vocabulary\n",
    "        with open('finishjadenapp/_unique_stemmed_words.csv', newline='', encoding='utf8') as f:\n",
    "            reader = csv.reader(f)\n",
    "            _unique_stemmed_words = list(reader)\n",
    "        self._unique_stemmed_words = _unique_stemmed_words\n",
    "    \n",
    "    def find_answer(self, question):\n",
    "        _cos_sim = linear_kernel(self._model.transform([self.stemming(self._unique_stemmed_words, question)]), self._vector).flatten()\n",
    "        _cos_sim = np.ndarray.argsort(-_cos_sim)[:5]\n",
    "        _result = []\n",
    "        for i in _cos_sim:\n",
    "            _result.append(self._vocabulary[i+1][1])\n",
    "        return _result\n",
    "\n",
    "    def stemming(self, doc1, doc2):\n",
    "        alldocin = doc1\n",
    "        docin = doc2.split(' ')\n",
    "        result = []\n",
    "        for i in range(len(alldocin)):\n",
    "            for j in range(len(docin)):\n",
    "                s = self.comparison(alldocin[i][0], docin[j])\n",
    "                if(len(s) > 3):\n",
    "                    docin[j] = s\n",
    "        \n",
    "        return \" \".join(str(x) for x in docin)\n",
    "    \n",
    "    def comparison(self, word1, word2):\n",
    "        length = len(word2) if len(word1) > len(word2) else len(word1)\n",
    "        result = ''\n",
    "        for i in range(length):\n",
    "            if(word1[i] == word2[i]):\n",
    "                result = result + word1[i]\n",
    "            else:\n",
    "                break\n",
    "        return result"
   ]
  },
  {
   "cell_type": "code",
   "execution_count": 79,
   "metadata": {},
   "outputs": [
    {
     "data": {
      "text/plain": [
       "['Қыстау', '«қаракесек»', '1984 ж ', 'С Торайғыров ', 'С Торайғыров ']"
      ]
     },
     "execution_count": 79,
     "metadata": {},
     "output_type": "execute_result"
    }
   ],
   "source": [
    "_jaden = Jaden()\n",
    "_jaden.find_answer('шоқынды алтынсариннің')"
   ]
  },
  {
   "cell_type": "code",
   "execution_count": null,
   "metadata": {},
   "outputs": [],
   "source": []
  }
 ],
 "metadata": {
  "kernelspec": {
   "display_name": "Python 3",
   "language": "python",
   "name": "python3"
  },
  "language_info": {
   "codemirror_mode": {
    "name": "ipython",
    "version": 3
   },
   "file_extension": ".py",
   "mimetype": "text/x-python",
   "name": "python",
   "nbconvert_exporter": "python",
   "pygments_lexer": "ipython3",
   "version": "3.6.5"
  }
 },
 "nbformat": 4,
 "nbformat_minor": 4
}
