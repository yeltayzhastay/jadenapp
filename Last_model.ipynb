{
 "cells": [
  {
   "cell_type": "code",
   "execution_count": 1,
   "metadata": {},
   "outputs": [],
   "source": [
    "import pandas as pd\n",
    "import numpy as np\n",
    "\n",
    "import pickle\n",
    "from sklearn.metrics.pairwise import linear_kernel\n",
    "from sklearn.feature_extraction.text import TfidfVectorizer\n",
    "\n",
    "import csv"
   ]
  },
  {
   "cell_type": "code",
   "execution_count": 2,
   "metadata": {},
   "outputs": [],
   "source": [
    "class Jaden:\n",
    "    _model = None\n",
    "    _vector = None\n",
    "    _vocabulary = None\n",
    "    \n",
    "    def __init__(self):\n",
    "        self._model = pickle.load(open('_model.sav', 'rb'))\n",
    "        self._vector = pickle.load(open('_vectorized.sav', 'rb'))\n",
    "        with open('dataset/tarih.csv', newline='', encoding='utf8') as f:\n",
    "            reader = csv.reader(f)\n",
    "            _vocabulary = list(reader)\n",
    "        self._vocabulary = _vocabulary\n",
    "    \n",
    "    def find_answer(self, question):\n",
    "        _cos_sim = linear_kernel(self._model.transform([question]), self._vector).flatten()\n",
    "        _cos_sim = np.ndarray.argsort(-_cos_sim)[:5]\n",
    "        _result = []\n",
    "        for i in _cos_sim:\n",
    "            _result.append(self._vocabulary[i+1][1])\n",
    "        return _result"
   ]
  },
  {
   "cell_type": "code",
   "execution_count": 9,
   "metadata": {},
   "outputs": [
    {
     "data": {
      "text/plain": [
       "['Жарты миллион',\n",
       " 'Жарты миллионға жуық',\n",
       " 'Жарты миллионға жуық ',\n",
       " ' «Иттифок-и-муслимин» партиясы құрылды ',\n",
       " '«Қазақстанның демократиялық таңдауы»']"
      ]
     },
     "execution_count": 9,
     "metadata": {},
     "output_type": "execute_result"
    }
   ],
   "source": [
    "_jaden = Jaden().find_answer('қа')\n",
    "_jaden"
   ]
  },
  {
   "cell_type": "code",
   "execution_count": null,
   "metadata": {},
   "outputs": [],
   "source": []
  }
 ],
 "metadata": {
  "kernelspec": {
   "display_name": "Python 3",
   "language": "python",
   "name": "python3"
  },
  "language_info": {
   "codemirror_mode": {
    "name": "ipython",
    "version": 3
   },
   "file_extension": ".py",
   "mimetype": "text/x-python",
   "name": "python",
   "nbconvert_exporter": "python",
   "pygments_lexer": "ipython3",
   "version": "3.6.5"
  }
 },
 "nbformat": 4,
 "nbformat_minor": 4
}
