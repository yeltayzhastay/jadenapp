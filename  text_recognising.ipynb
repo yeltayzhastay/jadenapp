{
 "cells": [
  {
   "cell_type": "code",
   "execution_count": 4,
   "metadata": {},
   "outputs": [
    {
     "data": {
      "text/plain": [
       "True"
      ]
     },
     "execution_count": 4,
     "metadata": {},
     "output_type": "execute_result"
    }
   ],
   "source": [
    "from PIL import Image\n",
    "import pytesseract\n",
    "import cv2\n",
    "import os\n",
    "\n",
    "image = 'dataset/test_1.jpg'\n",
    "\n",
    "preprocess = \"blur\"\n",
    "\n",
    "# загрузить образ и преобразовать его в оттенки серого\n",
    "image = cv2.imread(image)\n",
    "gray = cv2.cvtColor(image, cv2.COLOR_BGR2GRAY)\n",
    "\n",
    "# проверьте, следует ли применять пороговое значение для предварительной обработки изображения\n",
    "\n",
    "if preprocess == \"thresh\":\n",
    "    gray = cv2.threshold(gray, 0, 255,\n",
    "        cv2.THRESH_BINARY | cv2.THRESH_OTSU)[1]\n",
    "\n",
    "# если нужно медианное размытие, чтобы удалить шум\n",
    "elif preprocess == \"blur\":\n",
    "    gray = cv2.medianBlur(gray, 3)\n",
    "\n",
    "# сохраним временную картинку в оттенках серого, чтобы можно было применить к ней OCR\n",
    "\n",
    "filename = \"{}.jpg\".format(os.getpid())\n",
    "cv2.imwrite(filename, gray)"
   ]
  },
  {
   "cell_type": "code",
   "execution_count": null,
   "metadata": {},
   "outputs": [
    {
     "name": "stdout",
     "output_type": "stream",
     "text": [
      "тар ГУЛАГ азабынан өтті, олардың ішінде атылғандары.\n",
      "\n",
      "Әрезмді жаулап алған Шахмәлік\n",
      "Шахмәлік Хорезмді жаулады\n",
      "“соңғы жабғу Шахмәлік Хорезмді бағындырды ІШ\n",
      "оғыздардың соңғы жабғуы Шахмәлік селжұқтардың қолынан қаза тапты\n",
      "- Шахмәлік селжұқтардың қолынан қаза тапты\n",
      " - селжұқтар билеушісі ААлып-Арслан қыпшақтарға қарсы жорыққа шықты\n",
      "Ж- қыпшақтар Хорезмге қарсы жорыққа шықты\n",
      "юлктағы ротаның саяси жетекшісі Клочков «Ресей кең-байтақ, бірак шегінерге\n",
      "імызда Мәскеу» |\n",
      "Ж- селжұқтар сұлтаны Мәлік шах Қарахандардың Батыс хандығын басып алды.\n",
      "- 1219 ж- Қыпшақ мемлекеті\n",
      "Ж- Баласағұн мен Тараздың билеушісі Қадыр хан Жебірейіл Мауеренн\n",
      "ады\n",
      "ЖҒ - Ислам қыпшақтар арасында таралды Ш.\n",
      "“ Ляо империясы құлап, 40 мың қидандар отбасын басқарған Елұй Да\n",
      "а келіп, Қарақытай мемлекетін құрады Ы\n",
      "| Ляо империясы құлағаннан кейін - Елюй Дашы бастап 40 мың қиданЖетісуға\n",
      "Ляо империясы ап, 40 мың отбасын басқарған\n",
      "лы. Елюй Дашы бастаған қидандар қоныс аударған аймақ Жетісу\n",
      "1 Қарақытай мемлекетінің негізін қалаған билеуі Елюй Даши\n",
      "2 жж -Жетісуда өмір сүрген тайпа - ҚАрааПы Т\n",
      "212 жылдар аралығында Жетісуда билік жүргізген-- Қарақытайлар\n",
      "|56 Ж- хорезм шахы Атсыз 1\n",
      "Б ееейтр Шығыс хандықты жаулап, Жетісуда өз мемлекетін құрды\n",
      "қарақытайлар Шығыс хандықты жаулап, Жетісуда\n",
      "жж.- Қарақытайлар мемлекеті\n",
      "ыз Дешті қыпшаққа ілгерілей еніп, қыпшақтарды жаулады.\n",
      "еннахр билеушісі Махмудты женді қарақытайлар |\n",
      "Шыт жанында Қарахан әскерлеріне ойсырата соққы\n",
      "ар Қарахан мемлекетін түгел жаул:\n"
     ]
    }
   ],
   "source": [
    "# загрузка изображения в виде объекта image Pillow, применение OCR, а затем удаление временного файла\n",
    "pytesseract.pytesseract.tesseract_cmd = r'C:\\Users\\Zhastay\\AppData\\Local\\Tesseract-OCR\\tesseract.exe'\n",
    "text = pytesseract.image_to_string(Image.open(filename), lang='kaz')\n",
    "os.remove(filename)\n",
    "print(text)\n",
    "\n",
    "# показать выходные изображения\n",
    "cv2.imshow(\"Image\", image)\n",
    "cv2.imshow(\"Output\", gray)\n",
    "input('pause…')"
   ]
  },
  {
   "cell_type": "code",
   "execution_count": null,
   "metadata": {},
   "outputs": [],
   "source": []
  }
 ],
 "metadata": {
  "kernelspec": {
   "display_name": "Python 3",
   "language": "python",
   "name": "python3"
  },
  "language_info": {
   "codemirror_mode": {
    "name": "ipython",
    "version": 3
   },
   "file_extension": ".py",
   "mimetype": "text/x-python",
   "name": "python",
   "nbconvert_exporter": "python",
   "pygments_lexer": "ipython3",
   "version": "3.6.5"
  }
 },
 "nbformat": 4,
 "nbformat_minor": 2
}
