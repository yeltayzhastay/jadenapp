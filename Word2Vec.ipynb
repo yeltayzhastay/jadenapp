{
 "cells": [
  {
   "cell_type": "code",
   "execution_count": 5,
   "metadata": {},
   "outputs": [],
   "source": [
    "import pandas as pd\n",
    "import numpy as np\n",
    "\n",
    "import re\n",
    "\n",
    "from nltk.tokenize import sent_tokenize, word_tokenize \n",
    "import warnings \n",
    "  \n",
    "warnings.filterwarnings(action = 'ignore') \n",
    "  \n",
    "import gensim \n",
    "from gensim.models import Word2Vec "
   ]
  },
  {
   "cell_type": "code",
   "execution_count": 6,
   "metadata": {},
   "outputs": [],
   "source": [
    "def clean_str(text):\n",
    "    stripped = re.sub('[^0-9,^a-zA-Z, ^А-Я,а-я,Ә,І,Ң,Ғ,Ү,Ұ,Қ,Ө,Һ,ә,і,ə,ң,ғ,ү,ұ,қ,ө,һ]', ' ', str(text).replace('-', ' '))\n",
    "    stripped = re.sub('_', '', stripped)\n",
    "    stripped = re.sub('\\s+', ' ', stripped)\n",
    "    return stripped.replace(',','')\n",
    "    \n",
    "\n",
    "def cleaning_data(code_data):\n",
    "    question = code_data.question.tolist()\n",
    "    answer = code_data.answer.tolist()\n",
    "    sentences = []\n",
    "    for line in range(len(question)):\n",
    "        sentences.append([str(clean_str(question[line])).lower(), \n",
    "                          str(clean_str(answer[line])).lower()])\n",
    "    return pd.DataFrame(sentences, columns = ['question', 'answer'])"
   ]
  },
  {
   "cell_type": "code",
   "execution_count": 7,
   "metadata": {},
   "outputs": [
    {
     "data": {
      "text/html": [
       "<div>\n",
       "<style scoped>\n",
       "    .dataframe tbody tr th:only-of-type {\n",
       "        vertical-align: middle;\n",
       "    }\n",
       "\n",
       "    .dataframe tbody tr th {\n",
       "        vertical-align: top;\n",
       "    }\n",
       "\n",
       "    .dataframe thead th {\n",
       "        text-align: right;\n",
       "    }\n",
       "</style>\n",
       "<table border=\"1\" class=\"dataframe\">\n",
       "  <thead>\n",
       "    <tr style=\"text-align: right;\">\n",
       "      <th></th>\n",
       "      <th>question</th>\n",
       "      <th>answer</th>\n",
       "    </tr>\n",
       "  </thead>\n",
       "  <tbody>\n",
       "    <tr>\n",
       "      <th>0</th>\n",
       "      <td>а байтұрсынұлының 1909 жылы қамалғанға дейінгі...</td>\n",
       "      <td>қарқаралыда оқытушы</td>\n",
       "    </tr>\n",
       "    <tr>\n",
       "      <th>1</th>\n",
       "      <td>а байтұрсынов пен м сералин өзі жазбаларында қ...</td>\n",
       "      <td>қостанай</td>\n",
       "    </tr>\n",
       "    <tr>\n",
       "      <th>2</th>\n",
       "      <td>а байтұрсыновтың 1911 жылы орынборда жарық көр...</td>\n",
       "      <td>маса</td>\n",
       "    </tr>\n",
       "    <tr>\n",
       "      <th>3</th>\n",
       "      <td>а байтұрсыновтың орынборда жарық көрген жинағы</td>\n",
       "      <td>маса</td>\n",
       "    </tr>\n",
       "    <tr>\n",
       "      <th>4</th>\n",
       "      <td>а байтұрсыновтың өлеңдер жинағы</td>\n",
       "      <td>маса</td>\n",
       "    </tr>\n",
       "    <tr>\n",
       "      <th>...</th>\n",
       "      <td>...</td>\n",
       "      <td>...</td>\n",
       "    </tr>\n",
       "    <tr>\n",
       "      <th>15135</th>\n",
       "      <td>xx қозғалыс кезінде және жазалау нәтижесінде қ...</td>\n",
       "      <td>жарты миллион</td>\n",
       "    </tr>\n",
       "    <tr>\n",
       "      <th>15136</th>\n",
       "      <td>xx съезден кейін ақталған қайраткер</td>\n",
       "      <td>н нұрмақов</td>\n",
       "    </tr>\n",
       "    <tr>\n",
       "      <th>15137</th>\n",
       "      <td>xx съезден кейін ақталған қайраткер</td>\n",
       "      <td>с асфендияров</td>\n",
       "    </tr>\n",
       "    <tr>\n",
       "      <th>15138</th>\n",
       "      <td>xxi ғасырдың басында республикадағы мектептер...</td>\n",
       "      <td>8 мыңнан астам</td>\n",
       "    </tr>\n",
       "    <tr>\n",
       "      <th>15139</th>\n",
       "      <td>xxvii жазғы олимпиадалық ойындарының чемпиондары</td>\n",
       "      <td>б саттарханов е ибрайымов</td>\n",
       "    </tr>\n",
       "  </tbody>\n",
       "</table>\n",
       "<p>15140 rows × 2 columns</p>\n",
       "</div>"
      ],
      "text/plain": [
       "                                                question  \\\n",
       "0      а байтұрсынұлының 1909 жылы қамалғанға дейінгі...   \n",
       "1      а байтұрсынов пен м сералин өзі жазбаларында қ...   \n",
       "2      а байтұрсыновтың 1911 жылы орынборда жарық көр...   \n",
       "3        а байтұрсыновтың орынборда жарық көрген жинағы    \n",
       "4                       а байтұрсыновтың өлеңдер жинағы    \n",
       "...                                                  ...   \n",
       "15135  xx қозғалыс кезінде және жазалау нәтижесінде қ...   \n",
       "15136               xx съезден кейін ақталған қайраткер    \n",
       "15137               xx съезден кейін ақталған қайраткер    \n",
       "15138   xxi ғасырдың басында республикадағы мектептер...   \n",
       "15139  xxvii жазғы олимпиадалық ойындарының чемпиондары    \n",
       "\n",
       "                          answer  \n",
       "0            қарқаралыда оқытушы  \n",
       "1                       қостанай  \n",
       "2                          маса   \n",
       "3                          маса   \n",
       "4                          маса   \n",
       "...                          ...  \n",
       "15135              жарты миллион  \n",
       "15136                 н нұрмақов  \n",
       "15137              с асфендияров  \n",
       "15138             8 мыңнан астам  \n",
       "15139  б саттарханов е ибрайымов  \n",
       "\n",
       "[15140 rows x 2 columns]"
      ]
     },
     "execution_count": 7,
     "metadata": {},
     "output_type": "execute_result"
    }
   ],
   "source": [
    "df = pd.read_csv('dataset/tarih.csv')\n",
    "df = cleaning_data(df)\n",
    "df"
   ]
  },
  {
   "cell_type": "code",
   "execution_count": 11,
   "metadata": {},
   "outputs": [],
   "source": [
    "data = []\n",
    "for i in df.question.tolist():\n",
    "    data.append(i.split(' '))"
   ]
  },
  {
   "cell_type": "code",
   "execution_count": 16,
   "metadata": {},
   "outputs": [],
   "source": [
    "model1 = gensim.models.Word2Vec(data, min_count = 1,  \n",
    "                              size = 10, window = 5) "
   ]
  },
  {
   "cell_type": "code",
   "execution_count": 20,
   "metadata": {},
   "outputs": [
    {
     "name": "stdout",
     "output_type": "stream",
     "text": [
      "Cosine similarity between 'байтұрсыновтың' and 'өлеңдер' - CBOW :  [0.882545   0.10746457 0.13267757 0.42077804]\n",
      "Cosine similarity between 'байтұрсыновтың' and 'қайраткер' - CBOW :  [0.8777416  0.10762113 0.12851103 0.41837382]\n"
     ]
    }
   ],
   "source": [
    "# Print results \n",
    "print(\"Cosine similarity between 'байтұрсыновтың' \" + \n",
    "               \"and 'өлеңдер' - CBOW : \", \n",
    "    model1.similarity(['а', 'байтұрсыновтың', 'өлеңдер', 'жинағы'], 'өлеңдер')) \n",
    "      \n",
    "print(\"Cosine similarity between 'байтұрсыновтың' \" +\n",
    "                 \"and 'қайраткер' - CBOW : \", \n",
    "      model1.similarity(['а', 'байтұрсыновтың', 'өлеңдер', 'жинағы'], 'қайраткер')) "
   ]
  },
  {
   "cell_type": "code",
   "execution_count": null,
   "metadata": {},
   "outputs": [],
   "source": []
  }
 ],
 "metadata": {
  "kernelspec": {
   "display_name": "Python 3",
   "language": "python",
   "name": "python3"
  },
  "language_info": {
   "codemirror_mode": {
    "name": "ipython",
    "version": 3
   },
   "file_extension": ".py",
   "mimetype": "text/x-python",
   "name": "python",
   "nbconvert_exporter": "python",
   "pygments_lexer": "ipython3",
   "version": "3.6.5"
  }
 },
 "nbformat": 4,
 "nbformat_minor": 4
}
